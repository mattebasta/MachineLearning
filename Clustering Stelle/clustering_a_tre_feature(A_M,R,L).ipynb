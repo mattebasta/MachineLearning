{
 "cells": [
  {
   "cell_type": "code",
   "execution_count": 1,
   "metadata": {},
   "outputs": [
    {
     "data": {
      "text/html": [
       "<div>\n",
       "<style scoped>\n",
       "    .dataframe tbody tr th:only-of-type {\n",
       "        vertical-align: middle;\n",
       "    }\n",
       "\n",
       "    .dataframe tbody tr th {\n",
       "        vertical-align: top;\n",
       "    }\n",
       "\n",
       "    .dataframe thead th {\n",
       "        text-align: right;\n",
       "    }\n",
       "</style>\n",
       "<table border=\"1\" class=\"dataframe\">\n",
       "  <thead>\n",
       "    <tr style=\"text-align: right;\">\n",
       "      <th></th>\n",
       "      <th>Temperature</th>\n",
       "      <th>L</th>\n",
       "      <th>R</th>\n",
       "      <th>A_M</th>\n",
       "      <th>Color</th>\n",
       "      <th>Spectral_Class</th>\n",
       "      <th>Type</th>\n",
       "    </tr>\n",
       "  </thead>\n",
       "  <tbody>\n",
       "    <tr>\n",
       "      <th>0</th>\n",
       "      <td>3068</td>\n",
       "      <td>0.002400</td>\n",
       "      <td>0.1700</td>\n",
       "      <td>16.12</td>\n",
       "      <td>Red</td>\n",
       "      <td>M</td>\n",
       "      <td>0</td>\n",
       "    </tr>\n",
       "    <tr>\n",
       "      <th>1</th>\n",
       "      <td>3042</td>\n",
       "      <td>0.000500</td>\n",
       "      <td>0.1542</td>\n",
       "      <td>16.60</td>\n",
       "      <td>Red</td>\n",
       "      <td>M</td>\n",
       "      <td>0</td>\n",
       "    </tr>\n",
       "    <tr>\n",
       "      <th>2</th>\n",
       "      <td>2600</td>\n",
       "      <td>0.000300</td>\n",
       "      <td>0.1020</td>\n",
       "      <td>18.70</td>\n",
       "      <td>Red</td>\n",
       "      <td>M</td>\n",
       "      <td>0</td>\n",
       "    </tr>\n",
       "    <tr>\n",
       "      <th>3</th>\n",
       "      <td>2800</td>\n",
       "      <td>0.000200</td>\n",
       "      <td>0.1600</td>\n",
       "      <td>16.65</td>\n",
       "      <td>Red</td>\n",
       "      <td>M</td>\n",
       "      <td>0</td>\n",
       "    </tr>\n",
       "    <tr>\n",
       "      <th>4</th>\n",
       "      <td>1939</td>\n",
       "      <td>0.000138</td>\n",
       "      <td>0.1030</td>\n",
       "      <td>20.06</td>\n",
       "      <td>Red</td>\n",
       "      <td>M</td>\n",
       "      <td>0</td>\n",
       "    </tr>\n",
       "  </tbody>\n",
       "</table>\n",
       "</div>"
      ],
      "text/plain": [
       "   Temperature         L       R    A_M Color Spectral_Class  Type\n",
       "0         3068  0.002400  0.1700  16.12   Red              M     0\n",
       "1         3042  0.000500  0.1542  16.60   Red              M     0\n",
       "2         2600  0.000300  0.1020  18.70   Red              M     0\n",
       "3         2800  0.000200  0.1600  16.65   Red              M     0\n",
       "4         1939  0.000138  0.1030  20.06   Red              M     0"
      ]
     },
     "execution_count": 1,
     "metadata": {},
     "output_type": "execute_result"
    }
   ],
   "source": [
    "import pandas as pd \n",
    "import matplotlib.pyplot as plt \n",
    "import numpy as np \n",
    "from sklearn.cluster import KMeans\n",
    "import seaborn as sns\n",
    "from sklearn.model_selection import train_test_split\n",
    "\n",
    "\n",
    "#Temperatura=K, Magnitudine_Assoluta=A_M,Luminosità=L,Raggio=R,Colori,Classi Spettrali,Tipologia\n",
    "#carico il dataset\n",
    "data = pd.read_csv(\"Stars.csv\", sep=\",\")\n",
    "data.head()"
   ]
  },
  {
   "cell_type": "code",
   "execution_count": 2,
   "metadata": {},
   "outputs": [],
   "source": [
    "labels = set(data['Type'])"
   ]
  },
  {
   "cell_type": "code",
   "execution_count": 3,
   "metadata": {},
   "outputs": [
    {
     "name": "stdout",
     "output_type": "stream",
     "text": [
      "Temperature         int64\n",
      "L                 float64\n",
      "R                 float64\n",
      "A_M               float64\n",
      "Color              object\n",
      "Spectral_Class     object\n",
      "Type                int64\n",
      "dtype: object\n"
     ]
    }
   ],
   "source": [
    "print(data.dtypes)"
   ]
  },
  {
   "cell_type": "code",
   "execution_count": 4,
   "metadata": {},
   "outputs": [
    {
     "data": {
      "text/plain": [
       "0    40\n",
       "1    40\n",
       "2    40\n",
       "3    40\n",
       "4    40\n",
       "5    40\n",
       "Name: Type, dtype: int64"
      ]
     },
     "execution_count": 4,
     "metadata": {},
     "output_type": "execute_result"
    }
   ],
   "source": [
    "data['Type'].value_counts()"
   ]
  },
  {
   "cell_type": "code",
   "execution_count": 5,
   "metadata": {},
   "outputs": [],
   "source": [
    "#Creazione di 3 macrogruppi per i colori relativi alle stelle\n",
    "#Gruppo Bianco\n",
    "x=[\"Blue-white\",\"Blue White\",\"yellow-white\",\"Blue white\",\"Yellowish White\",\"Blue-White\",\"White-Yellow\",\"Whitish\",\"white\"]\n",
    "for i in x:\n",
    "    data.loc[data[\"Color\"]==i, \"Color\"]= \"White\""
   ]
  },
  {
   "cell_type": "code",
   "execution_count": 6,
   "metadata": {},
   "outputs": [],
   "source": [
    "#Gruppo Giallo\n",
    "for i in [\"yellowish\", \"Yellowish\"]:\n",
    "    data.loc[data[\"Color\"]==i, \"Color\"]= \"Yellow\""
   ]
  },
  {
   "cell_type": "code",
   "execution_count": 7,
   "metadata": {},
   "outputs": [],
   "source": [
    "#Gruppo Arancione\n",
    "for i in [\"Orange-Red\", \"Pale yellow orange\"]:\n",
    "    data.loc[data[\"Color\"]==i, \"Color\"]= \"Orange\""
   ]
  },
  {
   "cell_type": "code",
   "execution_count": 8,
   "metadata": {},
   "outputs": [
    {
     "data": {
      "text/plain": [
       "Red       112\n",
       "White      65\n",
       "Blue       56\n",
       "Orange      4\n",
       "Yellow      3\n",
       "Name: Color, dtype: int64"
      ]
     },
     "execution_count": 8,
     "metadata": {},
     "output_type": "execute_result"
    }
   ],
   "source": [
    "data[\"Color\"].value_counts()"
   ]
  },
  {
   "cell_type": "code",
   "execution_count": 9,
   "metadata": {},
   "outputs": [],
   "source": [
    "#Converto i dati sui colori e sulle classi spettrali\n",
    "data = pd.get_dummies(data=data, columns=[\"Color\", \"Spectral_Class\"], drop_first=True)"
   ]
  },
  {
   "cell_type": "code",
   "execution_count": 10,
   "metadata": {},
   "outputs": [
    {
     "data": {
      "text/html": [
       "<div>\n",
       "<style scoped>\n",
       "    .dataframe tbody tr th:only-of-type {\n",
       "        vertical-align: middle;\n",
       "    }\n",
       "\n",
       "    .dataframe tbody tr th {\n",
       "        vertical-align: top;\n",
       "    }\n",
       "\n",
       "    .dataframe thead th {\n",
       "        text-align: right;\n",
       "    }\n",
       "</style>\n",
       "<table border=\"1\" class=\"dataframe\">\n",
       "  <thead>\n",
       "    <tr style=\"text-align: right;\">\n",
       "      <th></th>\n",
       "      <th>Temperature</th>\n",
       "      <th>L</th>\n",
       "      <th>R</th>\n",
       "      <th>A_M</th>\n",
       "      <th>Type</th>\n",
       "      <th>Color_Orange</th>\n",
       "      <th>Color_Red</th>\n",
       "      <th>Color_White</th>\n",
       "      <th>Color_Yellow</th>\n",
       "      <th>Spectral_Class_B</th>\n",
       "      <th>Spectral_Class_F</th>\n",
       "      <th>Spectral_Class_G</th>\n",
       "      <th>Spectral_Class_K</th>\n",
       "      <th>Spectral_Class_M</th>\n",
       "      <th>Spectral_Class_O</th>\n",
       "    </tr>\n",
       "  </thead>\n",
       "  <tbody>\n",
       "    <tr>\n",
       "      <th>0</th>\n",
       "      <td>3068</td>\n",
       "      <td>0.002400</td>\n",
       "      <td>0.1700</td>\n",
       "      <td>16.12</td>\n",
       "      <td>0</td>\n",
       "      <td>0</td>\n",
       "      <td>1</td>\n",
       "      <td>0</td>\n",
       "      <td>0</td>\n",
       "      <td>0</td>\n",
       "      <td>0</td>\n",
       "      <td>0</td>\n",
       "      <td>0</td>\n",
       "      <td>1</td>\n",
       "      <td>0</td>\n",
       "    </tr>\n",
       "    <tr>\n",
       "      <th>1</th>\n",
       "      <td>3042</td>\n",
       "      <td>0.000500</td>\n",
       "      <td>0.1542</td>\n",
       "      <td>16.60</td>\n",
       "      <td>0</td>\n",
       "      <td>0</td>\n",
       "      <td>1</td>\n",
       "      <td>0</td>\n",
       "      <td>0</td>\n",
       "      <td>0</td>\n",
       "      <td>0</td>\n",
       "      <td>0</td>\n",
       "      <td>0</td>\n",
       "      <td>1</td>\n",
       "      <td>0</td>\n",
       "    </tr>\n",
       "    <tr>\n",
       "      <th>2</th>\n",
       "      <td>2600</td>\n",
       "      <td>0.000300</td>\n",
       "      <td>0.1020</td>\n",
       "      <td>18.70</td>\n",
       "      <td>0</td>\n",
       "      <td>0</td>\n",
       "      <td>1</td>\n",
       "      <td>0</td>\n",
       "      <td>0</td>\n",
       "      <td>0</td>\n",
       "      <td>0</td>\n",
       "      <td>0</td>\n",
       "      <td>0</td>\n",
       "      <td>1</td>\n",
       "      <td>0</td>\n",
       "    </tr>\n",
       "    <tr>\n",
       "      <th>3</th>\n",
       "      <td>2800</td>\n",
       "      <td>0.000200</td>\n",
       "      <td>0.1600</td>\n",
       "      <td>16.65</td>\n",
       "      <td>0</td>\n",
       "      <td>0</td>\n",
       "      <td>1</td>\n",
       "      <td>0</td>\n",
       "      <td>0</td>\n",
       "      <td>0</td>\n",
       "      <td>0</td>\n",
       "      <td>0</td>\n",
       "      <td>0</td>\n",
       "      <td>1</td>\n",
       "      <td>0</td>\n",
       "    </tr>\n",
       "    <tr>\n",
       "      <th>4</th>\n",
       "      <td>1939</td>\n",
       "      <td>0.000138</td>\n",
       "      <td>0.1030</td>\n",
       "      <td>20.06</td>\n",
       "      <td>0</td>\n",
       "      <td>0</td>\n",
       "      <td>1</td>\n",
       "      <td>0</td>\n",
       "      <td>0</td>\n",
       "      <td>0</td>\n",
       "      <td>0</td>\n",
       "      <td>0</td>\n",
       "      <td>0</td>\n",
       "      <td>1</td>\n",
       "      <td>0</td>\n",
       "    </tr>\n",
       "    <tr>\n",
       "      <th>...</th>\n",
       "      <td>...</td>\n",
       "      <td>...</td>\n",
       "      <td>...</td>\n",
       "      <td>...</td>\n",
       "      <td>...</td>\n",
       "      <td>...</td>\n",
       "      <td>...</td>\n",
       "      <td>...</td>\n",
       "      <td>...</td>\n",
       "      <td>...</td>\n",
       "      <td>...</td>\n",
       "      <td>...</td>\n",
       "      <td>...</td>\n",
       "      <td>...</td>\n",
       "      <td>...</td>\n",
       "    </tr>\n",
       "    <tr>\n",
       "      <th>235</th>\n",
       "      <td>38940</td>\n",
       "      <td>374830.000000</td>\n",
       "      <td>1356.0000</td>\n",
       "      <td>-9.93</td>\n",
       "      <td>5</td>\n",
       "      <td>0</td>\n",
       "      <td>0</td>\n",
       "      <td>0</td>\n",
       "      <td>0</td>\n",
       "      <td>0</td>\n",
       "      <td>0</td>\n",
       "      <td>0</td>\n",
       "      <td>0</td>\n",
       "      <td>0</td>\n",
       "      <td>1</td>\n",
       "    </tr>\n",
       "    <tr>\n",
       "      <th>236</th>\n",
       "      <td>30839</td>\n",
       "      <td>834042.000000</td>\n",
       "      <td>1194.0000</td>\n",
       "      <td>-10.63</td>\n",
       "      <td>5</td>\n",
       "      <td>0</td>\n",
       "      <td>0</td>\n",
       "      <td>0</td>\n",
       "      <td>0</td>\n",
       "      <td>0</td>\n",
       "      <td>0</td>\n",
       "      <td>0</td>\n",
       "      <td>0</td>\n",
       "      <td>0</td>\n",
       "      <td>1</td>\n",
       "    </tr>\n",
       "    <tr>\n",
       "      <th>237</th>\n",
       "      <td>8829</td>\n",
       "      <td>537493.000000</td>\n",
       "      <td>1423.0000</td>\n",
       "      <td>-10.73</td>\n",
       "      <td>5</td>\n",
       "      <td>0</td>\n",
       "      <td>0</td>\n",
       "      <td>1</td>\n",
       "      <td>0</td>\n",
       "      <td>0</td>\n",
       "      <td>0</td>\n",
       "      <td>0</td>\n",
       "      <td>0</td>\n",
       "      <td>0</td>\n",
       "      <td>0</td>\n",
       "    </tr>\n",
       "    <tr>\n",
       "      <th>238</th>\n",
       "      <td>9235</td>\n",
       "      <td>404940.000000</td>\n",
       "      <td>1112.0000</td>\n",
       "      <td>-11.23</td>\n",
       "      <td>5</td>\n",
       "      <td>0</td>\n",
       "      <td>0</td>\n",
       "      <td>1</td>\n",
       "      <td>0</td>\n",
       "      <td>0</td>\n",
       "      <td>0</td>\n",
       "      <td>0</td>\n",
       "      <td>0</td>\n",
       "      <td>0</td>\n",
       "      <td>0</td>\n",
       "    </tr>\n",
       "    <tr>\n",
       "      <th>239</th>\n",
       "      <td>37882</td>\n",
       "      <td>294903.000000</td>\n",
       "      <td>1783.0000</td>\n",
       "      <td>-7.80</td>\n",
       "      <td>5</td>\n",
       "      <td>0</td>\n",
       "      <td>0</td>\n",
       "      <td>0</td>\n",
       "      <td>0</td>\n",
       "      <td>0</td>\n",
       "      <td>0</td>\n",
       "      <td>0</td>\n",
       "      <td>0</td>\n",
       "      <td>0</td>\n",
       "      <td>1</td>\n",
       "    </tr>\n",
       "  </tbody>\n",
       "</table>\n",
       "<p>240 rows × 15 columns</p>\n",
       "</div>"
      ],
      "text/plain": [
       "     Temperature              L          R    A_M  Type  Color_Orange  \\\n",
       "0           3068       0.002400     0.1700  16.12     0             0   \n",
       "1           3042       0.000500     0.1542  16.60     0             0   \n",
       "2           2600       0.000300     0.1020  18.70     0             0   \n",
       "3           2800       0.000200     0.1600  16.65     0             0   \n",
       "4           1939       0.000138     0.1030  20.06     0             0   \n",
       "..           ...            ...        ...    ...   ...           ...   \n",
       "235        38940  374830.000000  1356.0000  -9.93     5             0   \n",
       "236        30839  834042.000000  1194.0000 -10.63     5             0   \n",
       "237         8829  537493.000000  1423.0000 -10.73     5             0   \n",
       "238         9235  404940.000000  1112.0000 -11.23     5             0   \n",
       "239        37882  294903.000000  1783.0000  -7.80     5             0   \n",
       "\n",
       "     Color_Red  Color_White  Color_Yellow  Spectral_Class_B  Spectral_Class_F  \\\n",
       "0            1            0             0                 0                 0   \n",
       "1            1            0             0                 0                 0   \n",
       "2            1            0             0                 0                 0   \n",
       "3            1            0             0                 0                 0   \n",
       "4            1            0             0                 0                 0   \n",
       "..         ...          ...           ...               ...               ...   \n",
       "235          0            0             0                 0                 0   \n",
       "236          0            0             0                 0                 0   \n",
       "237          0            1             0                 0                 0   \n",
       "238          0            1             0                 0                 0   \n",
       "239          0            0             0                 0                 0   \n",
       "\n",
       "     Spectral_Class_G  Spectral_Class_K  Spectral_Class_M  Spectral_Class_O  \n",
       "0                   0                 0                 1                 0  \n",
       "1                   0                 0                 1                 0  \n",
       "2                   0                 0                 1                 0  \n",
       "3                   0                 0                 1                 0  \n",
       "4                   0                 0                 1                 0  \n",
       "..                ...               ...               ...               ...  \n",
       "235                 0                 0                 0                 1  \n",
       "236                 0                 0                 0                 1  \n",
       "237                 0                 0                 0                 0  \n",
       "238                 0                 0                 0                 0  \n",
       "239                 0                 0                 0                 1  \n",
       "\n",
       "[240 rows x 15 columns]"
      ]
     },
     "execution_count": 10,
     "metadata": {},
     "output_type": "execute_result"
    }
   ],
   "source": [
    "data"
   ]
  },
  {
   "cell_type": "code",
   "execution_count": 11,
   "metadata": {},
   "outputs": [
    {
     "data": {
      "text/plain": [
       "Spectral_Class_B     46\n",
       "Spectral_Class_F     17\n",
       "Spectral_Class_G      1\n",
       "Spectral_Class_K      6\n",
       "Spectral_Class_M    111\n",
       "Spectral_Class_O     40\n",
       "dtype: int64"
      ]
     },
     "execution_count": 11,
     "metadata": {},
     "output_type": "execute_result"
    }
   ],
   "source": [
    "Spec_sum=data[['Spectral_Class_B', 'Spectral_Class_F', 'Spectral_Class_G',\n",
    " 'Spectral_Class_K', 'Spectral_Class_M', 'Spectral_Class_O']].sum()\n",
    "\n",
    "Spec_sum"
   ]
  },
  {
   "cell_type": "code",
   "execution_count": 12,
   "metadata": {},
   "outputs": [
    {
     "data": {
      "image/png": "[encoded data removed]",
      "text/plain": [
       "<Figure size 936x504 with 1 Axes>"
      ]
     },
     "metadata": {},
     "output_type": "display_data"
    }
   ],
   "source": [
    "PieLabel = 'Spectral_Class_B', 'Spectral_Class_F', 'Spectral_Class_G', 'Spectral_Class_K', 'Spectral_Class_M', 'Spectral_Class_O' \n",
    "Piecolors=['#F781BF','#FFFF33','#984EA3','#377EB8','#E41A1C','#120042'] \n",
    "\n",
    "\n",
    "fig2 = plt.figure(figsize=(13, 7))\n",
    "ax3 = fig2.add_axes([0,0,1,1])\n",
    "ax3.axis('equal')\n",
    "ax3.pie(Spec_sum, labels=PieLabel, colors=Piecolors, labeldistance=None, radius=1.3, autopct='%1.1f%%', pctdistance=1.07)\n",
    "ax3.legend(loc='upper left', fontsize='large')\n",
    "plt.show()"
   ]
  },
  {
   "cell_type": "code",
   "execution_count": 13,
   "metadata": {},
   "outputs": [],
   "source": [
    "from sklearn import tree\n",
    "clf = tree.DecisionTreeClassifier()"
   ]
  },
  {
   "cell_type": "code",
   "execution_count": 14,
   "metadata": {},
   "outputs": [],
   "source": [
    "X = data[['Temperature','L','R','A_M']]\n",
    "y = data.Type"
   ]
  },
  {
   "cell_type": "code",
   "execution_count": 15,
   "metadata": {},
   "outputs": [
    {
     "data": {
      "text/html": [
       "<div>\n",
       "<style scoped>\n",
       "    .dataframe tbody tr th:only-of-type {\n",
       "        vertical-align: middle;\n",
       "    }\n",
       "\n",
       "    .dataframe tbody tr th {\n",
       "        vertical-align: top;\n",
       "    }\n",
       "\n",
       "    .dataframe thead th {\n",
       "        text-align: right;\n",
       "    }\n",
       "</style>\n",
       "<table border=\"1\" class=\"dataframe\">\n",
       "  <thead>\n",
       "    <tr style=\"text-align: right;\">\n",
       "      <th></th>\n",
       "      <th>Temperature</th>\n",
       "      <th>L</th>\n",
       "      <th>R</th>\n",
       "      <th>A_M</th>\n",
       "    </tr>\n",
       "  </thead>\n",
       "  <tbody>\n",
       "    <tr>\n",
       "      <th>0</th>\n",
       "      <td>3068</td>\n",
       "      <td>0.002400</td>\n",
       "      <td>0.1700</td>\n",
       "      <td>16.12</td>\n",
       "    </tr>\n",
       "    <tr>\n",
       "      <th>1</th>\n",
       "      <td>3042</td>\n",
       "      <td>0.000500</td>\n",
       "      <td>0.1542</td>\n",
       "      <td>16.60</td>\n",
       "    </tr>\n",
       "    <tr>\n",
       "      <th>2</th>\n",
       "      <td>2600</td>\n",
       "      <td>0.000300</td>\n",
       "      <td>0.1020</td>\n",
       "      <td>18.70</td>\n",
       "    </tr>\n",
       "    <tr>\n",
       "      <th>3</th>\n",
       "      <td>2800</td>\n",
       "      <td>0.000200</td>\n",
       "      <td>0.1600</td>\n",
       "      <td>16.65</td>\n",
       "    </tr>\n",
       "    <tr>\n",
       "      <th>4</th>\n",
       "      <td>1939</td>\n",
       "      <td>0.000138</td>\n",
       "      <td>0.1030</td>\n",
       "      <td>20.06</td>\n",
       "    </tr>\n",
       "    <tr>\n",
       "      <th>...</th>\n",
       "      <td>...</td>\n",
       "      <td>...</td>\n",
       "      <td>...</td>\n",
       "      <td>...</td>\n",
       "    </tr>\n",
       "    <tr>\n",
       "      <th>235</th>\n",
       "      <td>38940</td>\n",
       "      <td>374830.000000</td>\n",
       "      <td>1356.0000</td>\n",
       "      <td>-9.93</td>\n",
       "    </tr>\n",
       "    <tr>\n",
       "      <th>236</th>\n",
       "      <td>30839</td>\n",
       "      <td>834042.000000</td>\n",
       "      <td>1194.0000</td>\n",
       "      <td>-10.63</td>\n",
       "    </tr>\n",
       "    <tr>\n",
       "      <th>237</th>\n",
       "      <td>8829</td>\n",
       "      <td>537493.000000</td>\n",
       "      <td>1423.0000</td>\n",
       "      <td>-10.73</td>\n",
       "    </tr>\n",
       "    <tr>\n",
       "      <th>238</th>\n",
       "      <td>9235</td>\n",
       "      <td>404940.000000</td>\n",
       "      <td>1112.0000</td>\n",
       "      <td>-11.23</td>\n",
       "    </tr>\n",
       "    <tr>\n",
       "      <th>239</th>\n",
       "      <td>37882</td>\n",
       "      <td>294903.000000</td>\n",
       "      <td>1783.0000</td>\n",
       "      <td>-7.80</td>\n",
       "    </tr>\n",
       "  </tbody>\n",
       "</table>\n",
       "<p>240 rows × 4 columns</p>\n",
       "</div>"
      ],
      "text/plain": [
       "     Temperature              L          R    A_M\n",
       "0           3068       0.002400     0.1700  16.12\n",
       "1           3042       0.000500     0.1542  16.60\n",
       "2           2600       0.000300     0.1020  18.70\n",
       "3           2800       0.000200     0.1600  16.65\n",
       "4           1939       0.000138     0.1030  20.06\n",
       "..           ...            ...        ...    ...\n",
       "235        38940  374830.000000  1356.0000  -9.93\n",
       "236        30839  834042.000000  1194.0000 -10.63\n",
       "237         8829  537493.000000  1423.0000 -10.73\n",
       "238         9235  404940.000000  1112.0000 -11.23\n",
       "239        37882  294903.000000  1783.0000  -7.80\n",
       "\n",
       "[240 rows x 4 columns]"
      ]
     },
     "execution_count": 15,
     "metadata": {},
     "output_type": "execute_result"
    }
   ],
   "source": [
    "X"
   ]
  },
  {
   "cell_type": "code",
   "execution_count": 16,
   "metadata": {},
   "outputs": [
    {
     "name": "stdout",
     "output_type": "stream",
     "text": [
      "DecisionTreeClassifier()\n"
     ]
    }
   ],
   "source": [
    "from sklearn.model_selection import train_test_split\n",
    "X_train, X_test, y_train, y_test = train_test_split(X, y, test_size=0.4, random_state=42)\n",
    "print(clf.fit(X_train, y_train))"
   ]
  },
  {
   "cell_type": "code",
   "execution_count": 17,
   "metadata": {},
   "outputs": [
    {
     "data": {
      "text/plain": [
       "array([0.1986675 , 0.20550776, 0.40003473, 0.19579   ])"
      ]
     },
     "execution_count": 17,
     "metadata": {},
     "output_type": "execute_result"
    }
   ],
   "source": [
    "clf.feature_importances_"
   ]
  },
  {
   "cell_type": "code",
   "execution_count": 18,
   "metadata": {},
   "outputs": [
    {
     "data": {
      "text/plain": [
       "SelectKBest(k=3)"
      ]
     },
     "execution_count": 18,
     "metadata": {},
     "output_type": "execute_result"
    }
   ],
   "source": [
    "from sklearn.feature_selection import SelectKBest, f_classif\n",
    "select = SelectKBest(f_classif, k=3)\n",
    "select.fit(X, y)"
   ]
  },
  {
   "cell_type": "code",
   "execution_count": 19,
   "metadata": {},
   "outputs": [
    {
     "name": "stdout",
     "output_type": "stream",
     "text": [
      "[False  True  True  True]\n"
     ]
    }
   ],
   "source": [
    "mask = select.get_support()\n",
    "print(mask)"
   ]
  },
  {
   "cell_type": "code",
   "execution_count": 20,
   "metadata": {},
   "outputs": [
    {
     "data": {
      "text/html": [
       "<div>\n",
       "<style scoped>\n",
       "    .dataframe tbody tr th:only-of-type {\n",
       "        vertical-align: middle;\n",
       "    }\n",
       "\n",
       "    .dataframe tbody tr th {\n",
       "        vertical-align: top;\n",
       "    }\n",
       "\n",
       "    .dataframe thead th {\n",
       "        text-align: right;\n",
       "    }\n",
       "</style>\n",
       "<table border=\"1\" class=\"dataframe\">\n",
       "  <thead>\n",
       "    <tr style=\"text-align: right;\">\n",
       "      <th></th>\n",
       "      <th>L</th>\n",
       "      <th>R</th>\n",
       "      <th>A_M</th>\n",
       "    </tr>\n",
       "  </thead>\n",
       "  <tbody>\n",
       "    <tr>\n",
       "      <th>0</th>\n",
       "      <td>0.002400</td>\n",
       "      <td>0.1700</td>\n",
       "      <td>16.12</td>\n",
       "    </tr>\n",
       "    <tr>\n",
       "      <th>1</th>\n",
       "      <td>0.000500</td>\n",
       "      <td>0.1542</td>\n",
       "      <td>16.60</td>\n",
       "    </tr>\n",
       "    <tr>\n",
       "      <th>2</th>\n",
       "      <td>0.000300</td>\n",
       "      <td>0.1020</td>\n",
       "      <td>18.70</td>\n",
       "    </tr>\n",
       "    <tr>\n",
       "      <th>3</th>\n",
       "      <td>0.000200</td>\n",
       "      <td>0.1600</td>\n",
       "      <td>16.65</td>\n",
       "    </tr>\n",
       "    <tr>\n",
       "      <th>4</th>\n",
       "      <td>0.000138</td>\n",
       "      <td>0.1030</td>\n",
       "      <td>20.06</td>\n",
       "    </tr>\n",
       "  </tbody>\n",
       "</table>\n",
       "</div>"
      ],
      "text/plain": [
       "          L       R    A_M\n",
       "0  0.002400  0.1700  16.12\n",
       "1  0.000500  0.1542  16.60\n",
       "2  0.000300  0.1020  18.70\n",
       "3  0.000200  0.1600  16.65\n",
       "4  0.000138  0.1030  20.06"
      ]
     },
     "execution_count": 20,
     "metadata": {},
     "output_type": "execute_result"
    }
   ],
   "source": [
    "new_X = data.iloc[:, 1:4]\n",
    "new_Y = data.Type\n",
    "df_new = pd.DataFrame(new_X)\n",
    "df_new.head()"
   ]
  },
  {
   "cell_type": "code",
   "execution_count": 21,
   "metadata": {},
   "outputs": [
    {
     "data": {
      "text/plain": [
       "array([[ 4.77372370e+03,  2.85410033e+01,  1.04183875e+01],\n",
       "       [ 2.45388029e+05,  6.19835397e+02, -7.60911765e+00],\n",
       "       [ 6.89585417e+05,  8.50208333e+02, -8.14558333e+00]])"
      ]
     },
     "execution_count": 21,
     "metadata": {},
     "output_type": "execute_result"
    }
   ],
   "source": [
    "kmeans = KMeans(n_clusters=3, random_state=10).fit(df_new)\n",
    "clusters = kmeans.cluster_centers_\n",
    "clusters"
   ]
  },
  {
   "cell_type": "code",
   "execution_count": 22,
   "metadata": {},
   "outputs": [
    {
     "data": {
      "image/png": "[encoded data removed]",
      "text/plain": [
       "<Figure size 432x288 with 1 Axes>"
      ]
     },
     "metadata": {
      "needs_background": "light"
     },
     "output_type": "display_data"
    }
   ],
   "source": [
    "fig=plt.figure()\n",
    "ax = fig.add_subplot(projection='3d')\n",
    "\n",
    "ax.scatter(df_new.iloc[:, 0], df_new.iloc[:, 1], df_new.iloc[:, 2])\n",
    "ax.set_xlabel('X Label')\n",
    "ax.set_ylabel('Y Label')\n",
    "ax.set_zlabel('Z Label')\n",
    "plt.show()"
   ]
  },
  {
   "cell_type": "code",
   "execution_count": 23,
   "metadata": {},
   "outputs": [
    {
     "data": {
      "text/plain": [
       "array([[ 2.40000e-03,  1.70000e-01,  1.61200e+01],\n",
       "       [ 5.00000e-04,  1.54200e-01,  1.66000e+01],\n",
       "       [ 3.00000e-04,  1.02000e-01,  1.87000e+01],\n",
       "       [ 2.00000e-04,  1.60000e-01,  1.66500e+01],\n",
       "       [ 1.38000e-04,  1.03000e-01,  2.00600e+01],\n",
       "       [ 6.50000e-04,  1.10000e-01,  1.69800e+01],\n",
       "       [ 7.30000e-04,  1.27000e-01,  1.72200e+01],\n",
       "       [ 4.00000e-04,  9.60000e-02,  1.74000e+01],\n",
       "       [ 6.90000e-04,  1.10000e-01,  1.74500e+01],\n",
       "       [ 1.80000e-04,  1.30000e-01,  1.60500e+01],\n",
       "       [ 2.90000e-03,  5.10000e-01,  1.06900e+01],\n",
       "       [ 1.22000e-02,  3.76100e-01,  1.17900e+01],\n",
       "       [ 4.00000e-04,  1.96000e-01,  1.32100e+01],\n",
       "       [ 5.50000e-03,  3.93000e-01,  1.04800e+01],\n",
       "       [ 6.00000e-04,  1.40000e-01,  1.17820e+01],\n",
       "       [ 3.80000e-03,  2.40000e-01,  1.30700e+01],\n",
       "       [ 1.80000e-03,  1.60000e-01,  1.47900e+01],\n",
       "       [ 3.67000e-03,  4.70000e-01,  1.08000e+01],\n",
       "       [ 3.62000e-03,  1.96700e-01,  1.35300e+01],\n",
       "       [ 3.90000e-02,  3.51000e-01,  1.11800e+01],\n",
       "       [ 5.60000e-02,  8.40000e-03,  1.05800e+01],\n",
       "       [ 4.90000e-04,  1.23400e-02,  1.40200e+01],\n",
       "       [ 1.70000e-04,  1.10000e-02,  1.42300e+01],\n",
       "       [ 5.00000e-04,  1.00000e-02,  1.45000e+01],\n",
       "       [ 1.30000e-02,  1.40000e-02,  1.18900e+01],\n",
       "       [ 8.50000e-05,  9.84000e-03,  1.22300e+01],\n",
       "       [ 8.10000e-04,  9.70000e-03,  1.42000e+01],\n",
       "       [ 1.10000e-04,  1.28000e-02,  1.44700e+01],\n",
       "       [ 1.50000e-04,  1.10000e-02,  1.25900e+01],\n",
       "       [ 8.00000e-05,  1.30000e-02,  1.40800e+01],\n",
       "       [ 2.04000e+05,  1.06000e+01, -4.70000e+00],\n",
       "       [ 2.88400e+04,  6.30000e+00, -4.20000e+00],\n",
       "       [ 1.13600e+03,  7.20000e+00, -1.97000e+00],\n",
       "       [ 7.40000e+01,  2.89000e+00,  1.60000e-01],\n",
       "       [ 8.10000e-01,  9.00000e-01,  5.05000e+00],\n",
       "       [ 8.70000e+00,  1.80000e+00,  2.42000e+00],\n",
       "       [ 1.43000e+00,  1.12000e+00,  2.41000e+00],\n",
       "       [ 1.35000e+00,  9.80000e-01,  2.93000e+00],\n",
       "       [ 1.35700e+00,  1.10600e+00,  4.46000e+00],\n",
       "       [ 8.19000e-01,  9.90000e-01,  5.03000e+00],\n",
       "       [ 2.00000e+05,  1.90000e+01, -6.93000e+00],\n",
       "       [ 3.40000e+05,  2.30000e+01, -6.20000e+00],\n",
       "       [ 1.50000e+05,  8.80000e+01, -6.02000e+00],\n",
       "       [ 1.95000e+05,  1.70000e+01, -7.22000e+00],\n",
       "       [ 2.80000e+05,  2.50000e+01, -6.00000e+00],\n",
       "       [ 3.20000e+05,  2.90000e+01, -6.60000e+00],\n",
       "       [ 1.23000e+05,  4.50000e+01, -6.78000e+00],\n",
       "       [ 2.00000e+05,  8.90000e+01, -5.24000e+00],\n",
       "       [ 1.84000e+05,  8.40000e+01, -6.74000e+00],\n",
       "       [ 2.20000e+05,  2.60000e+01, -6.10000e+00],\n",
       "       [ 2.70000e+05,  1.52000e+03, -9.40000e+00],\n",
       "       [ 2.83000e+05,  1.26000e+03, -7.63000e+00],\n",
       "       [ 2.72000e+05,  1.18300e+03, -9.20000e+00],\n",
       "       [ 5.50000e+05,  1.64800e+03, -8.05000e+00],\n",
       "       [ 3.10000e+05,  1.32400e+03, -7.79000e+00],\n",
       "       [ 2.63000e+05,  1.34900e+03, -1.17500e+01],\n",
       "       [ 3.63000e+05,  1.67300e+03, -1.19200e+01],\n",
       "       [ 1.74000e+05,  1.28400e+03, -1.12800e+01],\n",
       "       [ 2.09000e+05,  9.55000e+02, -1.12400e+01],\n",
       "       [ 1.95000e+05,  1.54600e+03, -1.13600e+01],\n",
       "       [ 5.60000e-03,  5.70000e-02,  1.62300e+01],\n",
       "       [ 6.70000e-04,  1.90000e-01,  1.69400e+01],\n",
       "       [ 2.40000e-04,  9.40000e-02,  1.60900e+01],\n",
       "       [ 3.40000e-04,  9.18000e-02,  1.69600e+01],\n",
       "       [ 1.40000e-04,  1.16000e-01,  1.88900e+01],\n",
       "       [ 9.80000e-04,  1.32000e-01,  1.71300e+01],\n",
       "       [ 3.20000e-04,  9.30000e-02,  1.83400e+01],\n",
       "       [ 9.80000e-04,  9.11000e-02,  1.64500e+01],\n",
       "       [ 3.60000e-04,  1.18000e-01,  1.73900e+01],\n",
       "       [ 7.20000e-04,  1.20000e-01,  1.94300e+01],\n",
       "       [ 2.10000e-02,  2.73000e-01,  1.23000e+01],\n",
       "       [ 2.20000e-02,  3.80000e-01,  1.01200e+01],\n",
       "       [ 8.50000e-03,  1.80000e-01,  1.32000e+01],\n",
       "       [ 8.80000e-03,  3.50000e-01,  1.19400e+01],\n",
       "       [ 4.00000e-03,  2.91000e-01,  1.08900e+01],\n",
       "       [ 1.00000e-03,  3.50000e-01,  1.17600e+01],\n",
       "       [ 3.40000e-03,  2.40000e-01,  1.34600e+01],\n",
       "       [ 1.50000e-03,  3.07000e-01,  1.18700e+01],\n",
       "       [ 6.00000e-04,  9.80000e-02,  1.28100e+01],\n",
       "       [ 1.35000e-03,  1.61000e-01,  1.39800e+01],\n",
       "       [ 2.90000e-04,  1.20000e-02,  1.40900e+01],\n",
       "       [ 1.40000e-04,  9.20000e-03,  1.20200e+01],\n",
       "       [ 5.60000e-04,  9.50000e-03,  1.37800e+01],\n",
       "       [ 9.80000e-04,  1.50000e-02,  1.24500e+01],\n",
       "       [ 6.70000e-04,  8.90000e-03,  1.21700e+01],\n",
       "       [ 4.50000e-04,  1.09000e-02,  1.39800e+01],\n",
       "       [ 7.80000e-04,  9.20000e-03,  1.21300e+01],\n",
       "       [ 7.40000e-04,  8.70000e-03,  1.11900e+01],\n",
       "       [ 1.80000e-04,  8.92000e-03,  1.29700e+01],\n",
       "       [ 1.10000e-03,  1.31000e-02,  1.13400e+01],\n",
       "       [ 5.90000e-01,  9.10000e-01,  5.49000e+00],\n",
       "       [ 1.53000e-01,  8.65000e-01,  6.50600e+00],\n",
       "       [ 8.50000e-02,  7.95000e-01,  6.22800e+00],\n",
       "       [ 3.57000e-01,  1.13000e+00,  4.78000e+00],\n",
       "       [ 4.50000e+01,  2.63000e+00,  1.45000e+00],\n",
       "       [ 6.72000e+02,  6.98000e+00, -2.30000e+00],\n",
       "       [ 6.30000e-01,  8.76000e-01,  4.68000e+00],\n",
       "       [ 7.92000e+00,  1.34000e+00,  2.44000e+00],\n",
       "       [ 6.89000e+02,  7.01000e+00,  2.00000e-02],\n",
       "       [ 1.98000e+05,  1.02000e+01, -4.40000e+00],\n",
       "       [ 2.40000e+05,  1.20000e+01, -6.50000e+00],\n",
       "       [ 8.13000e+05,  1.40000e+01, -6.23000e+00],\n",
       "       [ 1.27000e+05,  3.60000e+01, -5.76000e+00],\n",
       "       [ 2.35000e+05,  8.30000e+01, -6.89000e+00],\n",
       "       [ 1.12000e+05,  1.20000e+01, -5.91000e+00],\n",
       "       [ 2.31000e+05,  4.20000e+01, -6.12000e+00],\n",
       "       [ 3.63000e+05,  6.30000e+01, -5.83000e+00],\n",
       "       [ 1.84000e+05,  3.60000e+01, -6.34000e+00],\n",
       "       [ 1.42000e+05,  5.70000e+01, -6.24000e+00],\n",
       "       [ 3.52000e+05,  6.70000e+01, -5.79000e+00],\n",
       "       [ 1.00000e+05,  1.28900e+03, -1.07000e+01],\n",
       "       [ 1.26000e+05,  1.12400e+03, -1.08100e+01],\n",
       "       [ 2.00000e+05,  1.63500e+03, -1.13300e+01],\n",
       "       [ 1.17000e+05,  1.48600e+03, -1.09200e+01],\n",
       "       [ 1.32000e+05,  1.52200e+03, -1.08600e+01],\n",
       "       [ 1.45000e+05,  1.32400e+03, -1.10300e+01],\n",
       "       [ 2.82000e+05,  1.53400e+03, -1.13900e+01],\n",
       "       [ 7.40000e+04,  8.76000e+02, -1.02500e+01],\n",
       "       [ 2.29000e+05,  1.46700e+03, -1.00700e+01],\n",
       "       [ 2.00000e+05,  1.32400e+03, -1.07000e+01],\n",
       "       [ 4.30000e-04,  9.12000e-02,  1.71600e+01],\n",
       "       [ 9.30000e-04,  9.76000e-02,  1.99400e+01],\n",
       "       [ 5.40000e-04,  1.10000e-01,  2.00200e+01],\n",
       "       [ 1.50000e-04,  9.32000e-02,  1.69200e+01],\n",
       "       [ 6.40000e-04,  1.09000e-01,  1.71200e+01],\n",
       "       [ 7.60000e-04,  1.21000e-01,  1.96300e+01],\n",
       "       [ 8.70000e-04,  9.32000e-02,  1.68800e+01],\n",
       "       [ 1.90000e-04,  8.99000e-02,  1.67100e+01],\n",
       "       [ 8.96000e-04,  7.82000e-02,  1.95600e+01],\n",
       "       [ 4.37000e-04,  8.56000e-02,  1.80900e+01],\n",
       "       [ 1.90000e-04,  4.92000e-01,  1.08700e+01],\n",
       "       [ 2.30000e-04,  3.80000e-01,  1.03400e+01],\n",
       "       [ 8.00000e-03,  3.10000e-01,  1.11700e+01],\n",
       "       [ 8.70000e-03,  3.40000e-01,  1.31200e+01],\n",
       "       [ 9.00000e-04,  6.20000e-01,  1.42300e+01],\n",
       "       [ 2.30000e-03,  7.30000e-01,  1.47500e+01],\n",
       "       [ 8.10000e-03,  2.40000e-01,  1.14300e+01],\n",
       "       [ 1.10000e-03,  5.60000e-01,  1.42600e+01],\n",
       "       [ 3.40000e-03,  3.40000e-01,  1.22300e+01],\n",
       "       [ 1.30000e-03,  2.56000e-01,  1.43300e+01],\n",
       "       [ 5.90000e-04,  9.81000e-03,  1.36700e+01],\n",
       "       [ 1.50000e-03,  1.12000e-02,  1.15200e+01],\n",
       "       [ 1.30000e-03,  9.34000e-03,  1.27800e+01],\n",
       "       [ 8.20000e-04,  9.72000e-03,  1.19200e+01],\n",
       "       [ 6.70000e-04,  8.98000e-03,  1.13800e+01],\n",
       "       [ 2.80000e-04,  8.79000e-03,  1.48700e+01],\n",
       "       [ 7.10000e-04,  9.45000e-03,  1.28300e+01],\n",
       "       [ 1.10000e-04,  8.92000e-03,  1.28900e+01],\n",
       "       [ 1.40000e-04,  8.78000e-03,  1.48100e+01],\n",
       "       [ 8.80000e-04,  9.96000e-03,  1.12300e+01],\n",
       "       [ 1.88000e+05,  6.02000e+00, -4.01000e+00],\n",
       "       [ 3.80000e+01,  2.48700e+00,  1.20000e-01],\n",
       "       [ 1.09200e+03,  5.74500e+00, -2.04000e+00],\n",
       "       [ 1.27800e+03,  5.68000e+00, -3.32000e+00],\n",
       "       [ 1.45000e+04,  5.92000e+00, -3.98000e+00],\n",
       "       [ 1.67900e+04,  6.40000e+00, -4.09000e+00],\n",
       "       [ 1.45200e+04,  5.49000e+00, -3.80000e+00],\n",
       "       [ 4.72000e+03,  6.78000e+00, -3.40000e+00],\n",
       "       [ 9.98000e+02,  6.21000e+00, -1.38000e+00],\n",
       "       [ 2.02900e+05,  6.86000e+00, -4.56000e+00],\n",
       "       [ 2.23000e+05,  5.70000e+01, -5.92000e+00],\n",
       "       [ 2.51000e+05,  3.60000e+01, -6.24500e+00],\n",
       "       [ 4.52000e+05,  8.30000e+01, -5.62000e+00],\n",
       "       [ 2.45000e+05,  9.70000e+01, -6.63000e+00],\n",
       "       [ 2.39000e+05,  3.50000e+01, -7.34000e+00],\n",
       "       [ 1.31000e+05,  2.40000e+01, -7.22000e+00],\n",
       "       [ 1.52000e+05,  7.30000e+01, -5.69000e+00],\n",
       "       [ 1.98000e+05,  3.90000e+01, -5.83000e+00],\n",
       "       [ 3.42900e+05,  3.00000e+01, -6.09000e+00],\n",
       "       [ 4.24520e+05,  2.40000e+01, -5.99000e+00],\n",
       "       [ 3.20000e+05,  1.48000e+03, -7.58000e+00],\n",
       "       [ 1.38000e+05,  1.42000e+03, -8.18000e+00],\n",
       "       [ 6.30000e+05,  1.31500e+03, -9.20000e+00],\n",
       "       [ 3.16000e+05,  1.67900e+03, -9.10000e+00],\n",
       "       [ 2.40000e+05,  1.19000e+03, -7.89000e+00],\n",
       "       [ 1.45000e+05,  1.55300e+03, -7.71000e+00],\n",
       "       [ 2.00000e+05,  1.04500e+03, -8.30000e+00],\n",
       "       [ 1.70000e+05,  1.77900e+03, -9.90000e+00],\n",
       "       [ 1.20000e+05,  7.08900e+02, -7.84000e+00],\n",
       "       [ 2.48490e+05,  1.13450e+03, -8.24000e+00],\n",
       "       [ 2.31000e-04,  9.15000e-02,  1.62100e+01],\n",
       "       [ 6.31000e-04,  1.16000e-01,  1.83900e+01],\n",
       "       [ 2.45000e-04,  1.26000e-01,  1.75600e+01],\n",
       "       [ 4.52000e-04,  9.87000e-02,  1.73400e+01],\n",
       "       [ 6.21000e-04,  7.73000e-02,  1.70800e+01],\n",
       "       [ 3.52000e-04,  9.73000e-02,  1.69300e+01],\n",
       "       [ 4.61000e-04,  1.19000e-01,  1.74500e+01],\n",
       "       [ 5.51000e-04,  9.98000e-02,  1.66700e+01],\n",
       "       [ 8.49000e-04,  1.12000e-01,  1.94500e+01],\n",
       "       [ 9.57000e-04,  1.29000e-01,  1.63500e+01],\n",
       "       [ 5.30000e-03,  1.48000e-01,  1.14700e+01],\n",
       "       [ 2.40000e-03,  4.60000e-01,  1.07300e+01],\n",
       "       [ 7.20000e-03,  2.80000e-01,  1.34500e+01],\n",
       "       [ 1.60000e-03,  3.78000e-01,  1.28540e+01],\n",
       "       [ 5.40000e-03,  3.19000e-01,  1.24300e+01],\n",
       "       [ 2.70000e-03,  6.70000e-01,  1.36670e+01],\n",
       "       [ 1.32000e-03,  2.58000e-01,  1.41200e+01],\n",
       "       [ 1.25000e-03,  3.36000e-01,  1.49400e+01],\n",
       "       [ 6.50000e-03,  4.71000e-01,  1.27800e+01],\n",
       "       [ 2.70000e-03,  6.75000e-01,  1.47760e+01],\n",
       "       [ 1.40000e-03,  1.21000e-02,  1.28700e+01],\n",
       "       [ 1.22000e-03,  1.14000e-02,  1.19200e+01],\n",
       "       [ 1.18000e-03,  1.13000e-02,  1.22300e+01],\n",
       "       [ 1.09000e-03,  1.16000e-02,  1.29000e+01],\n",
       "       [ 1.34000e-03,  1.24000e-02,  1.12200e+01],\n",
       "       [ 1.56000e-03,  1.42000e-02,  1.13400e+01],\n",
       "       [ 1.59000e-03,  1.27000e-02,  1.05500e+01],\n",
       "       [ 1.32000e-03,  1.04000e-02,  1.01800e+01],\n",
       "       [ 1.11000e-03,  1.06000e-02,  1.16600e+01],\n",
       "       [ 1.25000e-03,  9.98000e-03,  1.16200e+01],\n",
       "       [ 1.24500e+04,  6.36000e+00, -3.67000e+00],\n",
       "       [ 5.52000e+02,  5.85600e+00,  1.30000e-02],\n",
       "       [ 7.88000e+02,  5.99200e+00, -1.20000e-01],\n",
       "       [ 6.74800e+03,  6.64000e+00, -2.55000e+00],\n",
       "       [ 1.98200e+05,  6.39000e+00, -4.57000e+00],\n",
       "       [ 1.73800e+05,  6.23700e+00, -4.36000e+00],\n",
       "       [ 2.90000e+01,  1.91000e+00,  1.23600e+00],\n",
       "       [ 1.09200e+04,  6.03000e+00, -3.08000e+00],\n",
       "       [ 8.83000e+02,  5.65300e+00, -2.64000e+00],\n",
       "       [ 9.25000e+00,  1.93000e+00, -9.80000e-01],\n",
       "       [ 2.44290e+05,  3.50000e+01, -6.27000e+00],\n",
       "       [ 3.32520e+05,  7.60000e+01, -7.02000e+00],\n",
       "       [ 3.42940e+05,  9.80000e+01, -6.98000e+00],\n",
       "       [ 5.37430e+05,  8.10000e+01, -5.97500e+00],\n",
       "       [ 2.46730e+05,  6.20000e+01, -6.35000e+00],\n",
       "       [ 2.24780e+05,  4.60000e+01, -7.45000e+00],\n",
       "       [ 5.93900e+05,  8.00000e+01, -7.26200e+00],\n",
       "       [ 7.83930e+05,  2.50000e+01, -6.22400e+00],\n",
       "       [ 3.47820e+05,  8.60000e+01, -5.90500e+00],\n",
       "       [ 7.48890e+05,  9.20000e+01, -7.34600e+00],\n",
       "       [ 3.82993e+05,  1.49400e+03, -8.84000e+00],\n",
       "       [ 2.72830e+05,  1.35600e+03, -9.29000e+00],\n",
       "       [ 6.48430e+05,  1.94850e+03, -1.08400e+01],\n",
       "       [ 8.49420e+05,  1.25200e+03, -7.59000e+00],\n",
       "       [ 7.48490e+05,  1.13000e+03, -7.67000e+00],\n",
       "       [ 3.74830e+05,  1.35600e+03, -9.93000e+00],\n",
       "       [ 8.34042e+05,  1.19400e+03, -1.06300e+01],\n",
       "       [ 5.37493e+05,  1.42300e+03, -1.07300e+01],\n",
       "       [ 4.04940e+05,  1.11200e+03, -1.12300e+01],\n",
       "       [ 2.94903e+05,  1.78300e+03, -7.80000e+00]])"
      ]
     },
     "execution_count": 23,
     "metadata": {},
     "output_type": "execute_result"
    }
   ],
   "source": [
    "X_arr = df_new.to_numpy() \n",
    "X_arr"
   ]
  },
  {
   "cell_type": "code",
   "execution_count": 24,
   "metadata": {},
   "outputs": [
    {
     "data": {
      "text/plain": [
       "array([0, 0, 0, 0, 0, 0, 0, 0, 0, 0, 1, 1, 1, 1, 1, 1, 1, 1, 1, 1, 2, 2,\n",
       "       2, 2, 2, 2, 2, 2, 2, 2, 3, 3, 3, 3, 3, 3, 3, 3, 3, 3, 4, 4, 4, 4,\n",
       "       4, 4, 4, 4, 4, 4, 5, 5, 5, 5, 5, 5, 5, 5, 5, 5, 0, 0, 0, 0, 0, 0,\n",
       "       0, 0, 0, 0, 1, 1, 1, 1, 1, 1, 1, 1, 1, 1, 2, 2, 2, 2, 2, 2, 2, 2,\n",
       "       2, 2, 3, 3, 3, 3, 3, 3, 3, 3, 3, 3, 4, 4, 4, 4, 4, 4, 4, 4, 4, 4,\n",
       "       5, 5, 5, 5, 5, 5, 5, 5, 5, 5, 0, 0, 0, 0, 0, 0, 0, 0, 0, 0, 1, 1,\n",
       "       1, 1, 1, 1, 1, 1, 1, 1, 2, 2, 2, 2, 2, 2, 2, 2, 2, 2, 3, 3, 3, 3,\n",
       "       3, 3, 3, 3, 3, 3, 4, 4, 4, 4, 4, 4, 4, 4, 4, 4, 5, 5, 5, 5, 5, 5,\n",
       "       5, 5, 5, 5, 0, 0, 0, 0, 0, 0, 0, 0, 0, 0, 1, 1, 1, 1, 1, 1, 1, 1,\n",
       "       1, 1, 2, 2, 2, 2, 2, 2, 2, 2, 2, 2, 3, 3, 3, 3, 3, 3, 3, 3, 3, 3,\n",
       "       4, 4, 4, 4, 4, 4, 4, 4, 4, 4, 5, 5, 5, 5, 5, 5, 5, 5, 5, 5])"
      ]
     },
     "execution_count": 24,
     "metadata": {},
     "output_type": "execute_result"
    }
   ],
   "source": [
    "Y_arr = new_Y.to_numpy()\n",
    "Y_arr"
   ]
  },
  {
   "cell_type": "code",
   "execution_count": 25,
   "metadata": {},
   "outputs": [
    {
     "name": "stdout",
     "output_type": "stream",
     "text": [
      "(0, 0) 40\n",
      "(0, 1) 40\n",
      "(0, 2) 40\n",
      "(1, 3) 6\n",
      "(0, 3) 34\n",
      "(1, 4) 33\n",
      "(0, 4) 2\n",
      "(1, 5) 29\n",
      "(2, 5) 7\n",
      "(2, 4) 5\n",
      "(0, 5) 4\n"
     ]
    }
   ],
   "source": [
    "pairs = {}\n",
    "predicted = []\n",
    "for i in range(len(X_arr)):\n",
    "    predicted_class = kmeans.predict([X_arr[i]])[0]\n",
    "    original_class = Y_arr[i]\n",
    "   #print([X[i]], predicted_class, original_class)\n",
    "    predicted.append((X_arr[i], predicted_class))\n",
    "    pair = (predicted_class, original_class)\n",
    "    pairs[pair] = pairs.get(pair, 0)\n",
    "    pairs[pair] += 1\n",
    "    \n",
    "\n",
    "for pair in pairs:\n",
    "    print(pair, pairs[pair])"
   ]
  },
  {
   "cell_type": "code",
   "execution_count": 26,
   "metadata": {},
   "outputs": [
    {
     "data": {
      "text/plain": [
       "array([[ 4.77372370e+03,  2.85410033e+01,  1.04183875e+01],\n",
       "       [ 2.45388029e+05,  6.19835397e+02, -7.60911765e+00],\n",
       "       [ 6.89585417e+05,  8.50208333e+02, -8.14558333e+00]])"
      ]
     },
     "execution_count": 26,
     "metadata": {},
     "output_type": "execute_result"
    }
   ],
   "source": [
    "clusters"
   ]
  },
  {
   "cell_type": "code",
   "execution_count": 38,
   "metadata": {},
   "outputs": [
    {
     "data": {
      "text/plain": [
       "[<mpl_toolkits.mplot3d.art3d.Line3D at 0x148cbe430>]"
      ]
     },
     "execution_count": 38,
     "metadata": {},
     "output_type": "execute_result"
    },
    {
     "data": {
      "image/png": "[encoded data removed]",
      "text/plain": [
       "<Figure size 432x288 with 1 Axes>"
      ]
     },
     "metadata": {
      "needs_background": "light"
     },
     "output_type": "display_data"
    }
   ],
   "source": [
    "fig=plt.figure()\n",
    "ax = fig.add_subplot(projection='3d')\n",
    "fig.subplots_adjust(left=0.02, right=0.98, bottom=0.05, top=0.9)\n",
    "colors=['#F781BF','#FFFF33','#984EA3','#377EB8','#E41A1C','#120042'] \n",
    "ax.set_title('KMeans')\n",
    "\n",
    "for i in range(len(X_arr)):\n",
    "    c = colors[Y_arr[i]] \n",
    "    # plot original data\n",
    "ax.plot(X_arr[i][0], X_arr[i][1],'w',\n",
    "            markerfacecolor=c, marker='o', markersize=10)  # original data\n",
    "    # plot estimate data\n",
    "\n",
    "for elem in predicted:\n",
    "    x_elem, y_elem, z_elem = elem[0]\n",
    "\n",
    "    if elem[1] == 0:\n",
    "        c = colors[0]\n",
    "    elif elem[1] == 1:\n",
    "        c = colors[4]\n",
    "    elif elem[1] == 2:\n",
    "        c = colors[1]\n",
    "    elif elem[1] == 3:\n",
    "        c = colors[3]\n",
    "    elif elem[1] == 4:\n",
    "        c = colors[2]\n",
    "    elif elem[1] == 5:\n",
    "        c = colors[5]\n",
    "    else:\n",
    "        c = \"gray\"\n",
    "    \n",
    "    ax.plot(x_elem, y_elem, 'w',\n",
    "           markerfacecolor=c, marker='o', markersize=20)   # predicted data\n",
    "    \n",
    "# cluster centers\n",
    "ax.plot(clusters[0][0],clusters[0][1],clusters[0][2],'bo',markersize=10) \n",
    "ax.plot(clusters[1][0],clusters[1][1],clusters[1][2],'bo',markersize=10) \n",
    "ax.plot(clusters[2][0],clusters[2][1],clusters[2][2],'bo',markersize=10) "
   ]
  },
  {
   "cell_type": "code",
   "execution_count": null,
   "metadata": {},
   "outputs": [],
   "source": []
  }
 ],
 "metadata": {
  "interpreter": {
   "hash": "5edc29c2ed010d6458d71a83433b383a96a8cbd3efe8531bc90c4b8a5b8bcec9"
  },
  "kernelspec": {
   "display_name": "Python 3.9.5 64-bit ('base': conda)",
   "language": "python",
   "name": "python395jvsc74a57bd095ec9ec1504d83f612128e0fb229072f90bbb4cb09d9d5d93b5dd26e0ca2cfd1"
  },
  "language_info": {
   "codemirror_mode": {
    "name": "ipython",
    "version": 3
   },
   "file_extension": ".py",
   "mimetype": "text/x-python",
   "name": "python",
   "nbconvert_exporter": "python",
   "pygments_lexer": "ipython3",
   "version": "3.9.6"
  },
  "metadata": {
   "interpreter": {
    "hash": "63fd5069d213b44bf678585dea6b12cceca9941eaf7f819626cde1f2670de90d"
   }
  }
 },
 "nbformat": 4,
 "nbformat_minor": 2
}
