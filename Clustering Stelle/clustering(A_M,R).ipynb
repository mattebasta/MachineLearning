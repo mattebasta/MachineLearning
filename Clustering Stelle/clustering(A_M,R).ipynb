{
 "cells": [
  {
   "cell_type": "code",
   "execution_count": 1,
   "metadata": {},
   "outputs": [
    {
     "data": {
      "text/html": [
       "<div>\n",
       "<style scoped>\n",
       "    .dataframe tbody tr th:only-of-type {\n",
       "        vertical-align: middle;\n",
       "    }\n",
       "\n",
       "    .dataframe tbody tr th {\n",
       "        vertical-align: top;\n",
       "    }\n",
       "\n",
       "    .dataframe thead th {\n",
       "        text-align: right;\n",
       "    }\n",
       "</style>\n",
       "<table border=\"1\" class=\"dataframe\">\n",
       "  <thead>\n",
       "    <tr style=\"text-align: right;\">\n",
       "      <th></th>\n",
       "      <th>Temperature</th>\n",
       "      <th>L</th>\n",
       "      <th>R</th>\n",
       "      <th>A_M</th>\n",
       "      <th>Color</th>\n",
       "      <th>Spectral_Class</th>\n",
       "      <th>Type</th>\n",
       "    </tr>\n",
       "  </thead>\n",
       "  <tbody>\n",
       "    <tr>\n",
       "      <th>0</th>\n",
       "      <td>3068</td>\n",
       "      <td>0.002400</td>\n",
       "      <td>0.1700</td>\n",
       "      <td>16.12</td>\n",
       "      <td>Red</td>\n",
       "      <td>M</td>\n",
       "      <td>0</td>\n",
       "    </tr>\n",
       "    <tr>\n",
       "      <th>1</th>\n",
       "      <td>3042</td>\n",
       "      <td>0.000500</td>\n",
       "      <td>0.1542</td>\n",
       "      <td>16.60</td>\n",
       "      <td>Red</td>\n",
       "      <td>M</td>\n",
       "      <td>0</td>\n",
       "    </tr>\n",
       "    <tr>\n",
       "      <th>2</th>\n",
       "      <td>2600</td>\n",
       "      <td>0.000300</td>\n",
       "      <td>0.1020</td>\n",
       "      <td>18.70</td>\n",
       "      <td>Red</td>\n",
       "      <td>M</td>\n",
       "      <td>0</td>\n",
       "    </tr>\n",
       "    <tr>\n",
       "      <th>3</th>\n",
       "      <td>2800</td>\n",
       "      <td>0.000200</td>\n",
       "      <td>0.1600</td>\n",
       "      <td>16.65</td>\n",
       "      <td>Red</td>\n",
       "      <td>M</td>\n",
       "      <td>0</td>\n",
       "    </tr>\n",
       "    <tr>\n",
       "      <th>4</th>\n",
       "      <td>1939</td>\n",
       "      <td>0.000138</td>\n",
       "      <td>0.1030</td>\n",
       "      <td>20.06</td>\n",
       "      <td>Red</td>\n",
       "      <td>M</td>\n",
       "      <td>0</td>\n",
       "    </tr>\n",
       "  </tbody>\n",
       "</table>\n",
       "</div>"
      ],
      "text/plain": [
       "   Temperature         L       R    A_M Color Spectral_Class  Type\n",
       "0         3068  0.002400  0.1700  16.12   Red              M     0\n",
       "1         3042  0.000500  0.1542  16.60   Red              M     0\n",
       "2         2600  0.000300  0.1020  18.70   Red              M     0\n",
       "3         2800  0.000200  0.1600  16.65   Red              M     0\n",
       "4         1939  0.000138  0.1030  20.06   Red              M     0"
      ]
     },
     "execution_count": 1,
     "metadata": {},
     "output_type": "execute_result"
    }
   ],
   "source": [
    "import pandas as pd \n",
    "import matplotlib.pyplot as plt \n",
    "import numpy as np \n",
    "from sklearn.cluster import KMeans\n",
    "import seaborn as sns\n",
    "from sklearn.model_selection import train_test_split\n",
    "\n",
    "\n",
    "#Temperatura=K, Magnitudine_Assoluta=A_M,Luminosità=L,Raggio=R,Colori,Classi Spettrali,Tipologia\n",
    "#carico il dataset\n",
    "data = pd.read_csv(\"Stars.csv\", sep=\",\")\n",
    "data.head()"
   ]
  },
  {
   "cell_type": "code",
   "execution_count": 2,
   "metadata": {},
   "outputs": [],
   "source": [
    "labels = set(data['Type'])"
   ]
  },
  {
   "cell_type": "code",
   "execution_count": 3,
   "metadata": {},
   "outputs": [
    {
     "name": "stdout",
     "output_type": "stream",
     "text": [
      "Temperature         int64\n",
      "L                 float64\n",
      "R                 float64\n",
      "A_M               float64\n",
      "Color              object\n",
      "Spectral_Class     object\n",
      "Type                int64\n",
      "dtype: object\n"
     ]
    }
   ],
   "source": [
    "print(data.dtypes)"
   ]
  },
  {
   "cell_type": "code",
   "execution_count": 4,
   "metadata": {},
   "outputs": [
    {
     "data": {
      "text/plain": [
       "0    40\n",
       "1    40\n",
       "2    40\n",
       "3    40\n",
       "4    40\n",
       "5    40\n",
       "Name: Type, dtype: int64"
      ]
     },
     "execution_count": 4,
     "metadata": {},
     "output_type": "execute_result"
    }
   ],
   "source": [
    "data['Type'].value_counts()"
   ]
  },
  {
   "cell_type": "code",
   "execution_count": 5,
   "metadata": {},
   "outputs": [],
   "source": [
    "#Creazione di 3 macrogruppi per i colori relativi alle stelle\n",
    "#Gruppo Bianco\n",
    "x=[\"Blue-white\",\"Blue White\",\"yellow-white\",\"Blue white\",\"Yellowish White\",\"Blue-White\",\"White-Yellow\",\"Whitish\",\"white\"]\n",
    "for i in x:\n",
    "    data.loc[data[\"Color\"]==i, \"Color\"]= \"White\""
   ]
  },
  {
   "cell_type": "code",
   "execution_count": 6,
   "metadata": {},
   "outputs": [],
   "source": [
    "#Gruppo Giallo\n",
    "for i in [\"yellowish\", \"Yellowish\"]:\n",
    "    data.loc[data[\"Color\"]==i, \"Color\"]= \"Yellow\""
   ]
  },
  {
   "cell_type": "code",
   "execution_count": 7,
   "metadata": {},
   "outputs": [],
   "source": [
    "#Gruppo Arancione\n",
    "for i in [\"Orange-Red\", \"Pale yellow orange\"]:\n",
    "    data.loc[data[\"Color\"]==i, \"Color\"]= \"Orange\""
   ]
  },
  {
   "cell_type": "code",
   "execution_count": 8,
   "metadata": {},
   "outputs": [
    {
     "data": {
      "text/plain": [
       "Red       112\n",
       "White      65\n",
       "Blue       56\n",
       "Orange      4\n",
       "Yellow      3\n",
       "Name: Color, dtype: int64"
      ]
     },
     "execution_count": 8,
     "metadata": {},
     "output_type": "execute_result"
    }
   ],
   "source": [
    "data[\"Color\"].value_counts()"
   ]
  },
  {
   "cell_type": "code",
   "execution_count": 9,
   "metadata": {},
   "outputs": [],
   "source": [
    "#Converto i dati sui colori e sulle classi spettrali\n",
    "data = pd.get_dummies(data=data, columns=[\"Color\", \"Spectral_Class\"], drop_first=True)"
   ]
  },
  {
   "cell_type": "code",
   "execution_count": 10,
   "metadata": {},
   "outputs": [
    {
     "data": {
      "text/html": [
       "<div>\n",
       "<style scoped>\n",
       "    .dataframe tbody tr th:only-of-type {\n",
       "        vertical-align: middle;\n",
       "    }\n",
       "\n",
       "    .dataframe tbody tr th {\n",
       "        vertical-align: top;\n",
       "    }\n",
       "\n",
       "    .dataframe thead th {\n",
       "        text-align: right;\n",
       "    }\n",
       "</style>\n",
       "<table border=\"1\" class=\"dataframe\">\n",
       "  <thead>\n",
       "    <tr style=\"text-align: right;\">\n",
       "      <th></th>\n",
       "      <th>Temperature</th>\n",
       "      <th>L</th>\n",
       "      <th>R</th>\n",
       "      <th>A_M</th>\n",
       "      <th>Type</th>\n",
       "      <th>Color_Orange</th>\n",
       "      <th>Color_Red</th>\n",
       "      <th>Color_White</th>\n",
       "      <th>Color_Yellow</th>\n",
       "      <th>Spectral_Class_B</th>\n",
       "      <th>Spectral_Class_F</th>\n",
       "      <th>Spectral_Class_G</th>\n",
       "      <th>Spectral_Class_K</th>\n",
       "      <th>Spectral_Class_M</th>\n",
       "      <th>Spectral_Class_O</th>\n",
       "    </tr>\n",
       "  </thead>\n",
       "  <tbody>\n",
       "    <tr>\n",
       "      <th>0</th>\n",
       "      <td>3068</td>\n",
       "      <td>0.002400</td>\n",
       "      <td>0.1700</td>\n",
       "      <td>16.12</td>\n",
       "      <td>0</td>\n",
       "      <td>0</td>\n",
       "      <td>1</td>\n",
       "      <td>0</td>\n",
       "      <td>0</td>\n",
       "      <td>0</td>\n",
       "      <td>0</td>\n",
       "      <td>0</td>\n",
       "      <td>0</td>\n",
       "      <td>1</td>\n",
       "      <td>0</td>\n",
       "    </tr>\n",
       "    <tr>\n",
       "      <th>1</th>\n",
       "      <td>3042</td>\n",
       "      <td>0.000500</td>\n",
       "      <td>0.1542</td>\n",
       "      <td>16.60</td>\n",
       "      <td>0</td>\n",
       "      <td>0</td>\n",
       "      <td>1</td>\n",
       "      <td>0</td>\n",
       "      <td>0</td>\n",
       "      <td>0</td>\n",
       "      <td>0</td>\n",
       "      <td>0</td>\n",
       "      <td>0</td>\n",
       "      <td>1</td>\n",
       "      <td>0</td>\n",
       "    </tr>\n",
       "    <tr>\n",
       "      <th>2</th>\n",
       "      <td>2600</td>\n",
       "      <td>0.000300</td>\n",
       "      <td>0.1020</td>\n",
       "      <td>18.70</td>\n",
       "      <td>0</td>\n",
       "      <td>0</td>\n",
       "      <td>1</td>\n",
       "      <td>0</td>\n",
       "      <td>0</td>\n",
       "      <td>0</td>\n",
       "      <td>0</td>\n",
       "      <td>0</td>\n",
       "      <td>0</td>\n",
       "      <td>1</td>\n",
       "      <td>0</td>\n",
       "    </tr>\n",
       "    <tr>\n",
       "      <th>3</th>\n",
       "      <td>2800</td>\n",
       "      <td>0.000200</td>\n",
       "      <td>0.1600</td>\n",
       "      <td>16.65</td>\n",
       "      <td>0</td>\n",
       "      <td>0</td>\n",
       "      <td>1</td>\n",
       "      <td>0</td>\n",
       "      <td>0</td>\n",
       "      <td>0</td>\n",
       "      <td>0</td>\n",
       "      <td>0</td>\n",
       "      <td>0</td>\n",
       "      <td>1</td>\n",
       "      <td>0</td>\n",
       "    </tr>\n",
       "    <tr>\n",
       "      <th>4</th>\n",
       "      <td>1939</td>\n",
       "      <td>0.000138</td>\n",
       "      <td>0.1030</td>\n",
       "      <td>20.06</td>\n",
       "      <td>0</td>\n",
       "      <td>0</td>\n",
       "      <td>1</td>\n",
       "      <td>0</td>\n",
       "      <td>0</td>\n",
       "      <td>0</td>\n",
       "      <td>0</td>\n",
       "      <td>0</td>\n",
       "      <td>0</td>\n",
       "      <td>1</td>\n",
       "      <td>0</td>\n",
       "    </tr>\n",
       "    <tr>\n",
       "      <th>...</th>\n",
       "      <td>...</td>\n",
       "      <td>...</td>\n",
       "      <td>...</td>\n",
       "      <td>...</td>\n",
       "      <td>...</td>\n",
       "      <td>...</td>\n",
       "      <td>...</td>\n",
       "      <td>...</td>\n",
       "      <td>...</td>\n",
       "      <td>...</td>\n",
       "      <td>...</td>\n",
       "      <td>...</td>\n",
       "      <td>...</td>\n",
       "      <td>...</td>\n",
       "      <td>...</td>\n",
       "    </tr>\n",
       "    <tr>\n",
       "      <th>235</th>\n",
       "      <td>38940</td>\n",
       "      <td>374830.000000</td>\n",
       "      <td>1356.0000</td>\n",
       "      <td>-9.93</td>\n",
       "      <td>5</td>\n",
       "      <td>0</td>\n",
       "      <td>0</td>\n",
       "      <td>0</td>\n",
       "      <td>0</td>\n",
       "      <td>0</td>\n",
       "      <td>0</td>\n",
       "      <td>0</td>\n",
       "      <td>0</td>\n",
       "      <td>0</td>\n",
       "      <td>1</td>\n",
       "    </tr>\n",
       "    <tr>\n",
       "      <th>236</th>\n",
       "      <td>30839</td>\n",
       "      <td>834042.000000</td>\n",
       "      <td>1194.0000</td>\n",
       "      <td>-10.63</td>\n",
       "      <td>5</td>\n",
       "      <td>0</td>\n",
       "      <td>0</td>\n",
       "      <td>0</td>\n",
       "      <td>0</td>\n",
       "      <td>0</td>\n",
       "      <td>0</td>\n",
       "      <td>0</td>\n",
       "      <td>0</td>\n",
       "      <td>0</td>\n",
       "      <td>1</td>\n",
       "    </tr>\n",
       "    <tr>\n",
       "      <th>237</th>\n",
       "      <td>8829</td>\n",
       "      <td>537493.000000</td>\n",
       "      <td>1423.0000</td>\n",
       "      <td>-10.73</td>\n",
       "      <td>5</td>\n",
       "      <td>0</td>\n",
       "      <td>0</td>\n",
       "      <td>1</td>\n",
       "      <td>0</td>\n",
       "      <td>0</td>\n",
       "      <td>0</td>\n",
       "      <td>0</td>\n",
       "      <td>0</td>\n",
       "      <td>0</td>\n",
       "      <td>0</td>\n",
       "    </tr>\n",
       "    <tr>\n",
       "      <th>238</th>\n",
       "      <td>9235</td>\n",
       "      <td>404940.000000</td>\n",
       "      <td>1112.0000</td>\n",
       "      <td>-11.23</td>\n",
       "      <td>5</td>\n",
       "      <td>0</td>\n",
       "      <td>0</td>\n",
       "      <td>1</td>\n",
       "      <td>0</td>\n",
       "      <td>0</td>\n",
       "      <td>0</td>\n",
       "      <td>0</td>\n",
       "      <td>0</td>\n",
       "      <td>0</td>\n",
       "      <td>0</td>\n",
       "    </tr>\n",
       "    <tr>\n",
       "      <th>239</th>\n",
       "      <td>37882</td>\n",
       "      <td>294903.000000</td>\n",
       "      <td>1783.0000</td>\n",
       "      <td>-7.80</td>\n",
       "      <td>5</td>\n",
       "      <td>0</td>\n",
       "      <td>0</td>\n",
       "      <td>0</td>\n",
       "      <td>0</td>\n",
       "      <td>0</td>\n",
       "      <td>0</td>\n",
       "      <td>0</td>\n",
       "      <td>0</td>\n",
       "      <td>0</td>\n",
       "      <td>1</td>\n",
       "    </tr>\n",
       "  </tbody>\n",
       "</table>\n",
       "<p>240 rows × 15 columns</p>\n",
       "</div>"
      ],
      "text/plain": [
       "     Temperature              L          R    A_M  Type  Color_Orange  \\\n",
       "0           3068       0.002400     0.1700  16.12     0             0   \n",
       "1           3042       0.000500     0.1542  16.60     0             0   \n",
       "2           2600       0.000300     0.1020  18.70     0             0   \n",
       "3           2800       0.000200     0.1600  16.65     0             0   \n",
       "4           1939       0.000138     0.1030  20.06     0             0   \n",
       "..           ...            ...        ...    ...   ...           ...   \n",
       "235        38940  374830.000000  1356.0000  -9.93     5             0   \n",
       "236        30839  834042.000000  1194.0000 -10.63     5             0   \n",
       "237         8829  537493.000000  1423.0000 -10.73     5             0   \n",
       "238         9235  404940.000000  1112.0000 -11.23     5             0   \n",
       "239        37882  294903.000000  1783.0000  -7.80     5             0   \n",
       "\n",
       "     Color_Red  Color_White  Color_Yellow  Spectral_Class_B  Spectral_Class_F  \\\n",
       "0            1            0             0                 0                 0   \n",
       "1            1            0             0                 0                 0   \n",
       "2            1            0             0                 0                 0   \n",
       "3            1            0             0                 0                 0   \n",
       "4            1            0             0                 0                 0   \n",
       "..         ...          ...           ...               ...               ...   \n",
       "235          0            0             0                 0                 0   \n",
       "236          0            0             0                 0                 0   \n",
       "237          0            1             0                 0                 0   \n",
       "238          0            1             0                 0                 0   \n",
       "239          0            0             0                 0                 0   \n",
       "\n",
       "     Spectral_Class_G  Spectral_Class_K  Spectral_Class_M  Spectral_Class_O  \n",
       "0                   0                 0                 1                 0  \n",
       "1                   0                 0                 1                 0  \n",
       "2                   0                 0                 1                 0  \n",
       "3                   0                 0                 1                 0  \n",
       "4                   0                 0                 1                 0  \n",
       "..                ...               ...               ...               ...  \n",
       "235                 0                 0                 0                 1  \n",
       "236                 0                 0                 0                 1  \n",
       "237                 0                 0                 0                 0  \n",
       "238                 0                 0                 0                 0  \n",
       "239                 0                 0                 0                 1  \n",
       "\n",
       "[240 rows x 15 columns]"
      ]
     },
     "execution_count": 10,
     "metadata": {},
     "output_type": "execute_result"
    }
   ],
   "source": [
    "data"
   ]
  },
  {
   "cell_type": "code",
   "execution_count": 11,
   "metadata": {},
   "outputs": [
    {
     "data": {
      "text/plain": [
       "Spectral_Class_B     46\n",
       "Spectral_Class_F     17\n",
       "Spectral_Class_G      1\n",
       "Spectral_Class_K      6\n",
       "Spectral_Class_M    111\n",
       "Spectral_Class_O     40\n",
       "dtype: int64"
      ]
     },
     "execution_count": 11,
     "metadata": {},
     "output_type": "execute_result"
    }
   ],
   "source": [
    "Spec_sum=data[['Spectral_Class_B', 'Spectral_Class_F', 'Spectral_Class_G',\n",
    " 'Spectral_Class_K', 'Spectral_Class_M', 'Spectral_Class_O']].sum()\n",
    "\n",
    "Spec_sum"
   ]
  },
  {
   "cell_type": "code",
   "execution_count": 12,
   "metadata": {},
   "outputs": [
    {
     "data": {
      "image/png": "[encoded data removed]",
      "text/plain": [
       "<Figure size 936x504 with 1 Axes>"
      ]
     },
     "metadata": {},
     "output_type": "display_data"
    }
   ],
   "source": [
    "PieLabel = 'Spectral_Class_B', 'Spectral_Class_F', 'Spectral_Class_G', 'Spectral_Class_K', 'Spectral_Class_M', 'Spectral_Class_O' \n",
    "Piecolors=['#F781BF','#FFFF33','#984EA3','#377EB8','#E41A1C','#120042'] \n",
    "\n",
    "\n",
    "fig2 = plt.figure(figsize=(13, 7))\n",
    "ax3 = fig2.add_axes([0,0,1,1])\n",
    "ax3.axis('equal')\n",
    "ax3.pie(Spec_sum, labels=PieLabel, colors=Piecolors, labeldistance=None, radius=1.3, autopct='%1.1f%%', pctdistance=1.07)\n",
    "ax3.legend(loc='upper left', fontsize='large')\n",
    "plt.show()"
   ]
  },
  {
   "cell_type": "code",
   "execution_count": 13,
   "metadata": {},
   "outputs": [],
   "source": [
    "from sklearn import tree\n",
    "clf = tree.DecisionTreeClassifier()"
   ]
  },
  {
   "cell_type": "code",
   "execution_count": 14,
   "metadata": {},
   "outputs": [],
   "source": [
    "X = data[['Temperature','L','R','A_M']]\n",
    "y = data.Type"
   ]
  },
  {
   "cell_type": "code",
   "execution_count": 15,
   "metadata": {},
   "outputs": [
    {
     "data": {
      "text/html": [
       "<div>\n",
       "<style scoped>\n",
       "    .dataframe tbody tr th:only-of-type {\n",
       "        vertical-align: middle;\n",
       "    }\n",
       "\n",
       "    .dataframe tbody tr th {\n",
       "        vertical-align: top;\n",
       "    }\n",
       "\n",
       "    .dataframe thead th {\n",
       "        text-align: right;\n",
       "    }\n",
       "</style>\n",
       "<table border=\"1\" class=\"dataframe\">\n",
       "  <thead>\n",
       "    <tr style=\"text-align: right;\">\n",
       "      <th></th>\n",
       "      <th>Temperature</th>\n",
       "      <th>L</th>\n",
       "      <th>R</th>\n",
       "      <th>A_M</th>\n",
       "    </tr>\n",
       "  </thead>\n",
       "  <tbody>\n",
       "    <tr>\n",
       "      <th>0</th>\n",
       "      <td>3068</td>\n",
       "      <td>0.002400</td>\n",
       "      <td>0.1700</td>\n",
       "      <td>16.12</td>\n",
       "    </tr>\n",
       "    <tr>\n",
       "      <th>1</th>\n",
       "      <td>3042</td>\n",
       "      <td>0.000500</td>\n",
       "      <td>0.1542</td>\n",
       "      <td>16.60</td>\n",
       "    </tr>\n",
       "    <tr>\n",
       "      <th>2</th>\n",
       "      <td>2600</td>\n",
       "      <td>0.000300</td>\n",
       "      <td>0.1020</td>\n",
       "      <td>18.70</td>\n",
       "    </tr>\n",
       "    <tr>\n",
       "      <th>3</th>\n",
       "      <td>2800</td>\n",
       "      <td>0.000200</td>\n",
       "      <td>0.1600</td>\n",
       "      <td>16.65</td>\n",
       "    </tr>\n",
       "    <tr>\n",
       "      <th>4</th>\n",
       "      <td>1939</td>\n",
       "      <td>0.000138</td>\n",
       "      <td>0.1030</td>\n",
       "      <td>20.06</td>\n",
       "    </tr>\n",
       "    <tr>\n",
       "      <th>...</th>\n",
       "      <td>...</td>\n",
       "      <td>...</td>\n",
       "      <td>...</td>\n",
       "      <td>...</td>\n",
       "    </tr>\n",
       "    <tr>\n",
       "      <th>235</th>\n",
       "      <td>38940</td>\n",
       "      <td>374830.000000</td>\n",
       "      <td>1356.0000</td>\n",
       "      <td>-9.93</td>\n",
       "    </tr>\n",
       "    <tr>\n",
       "      <th>236</th>\n",
       "      <td>30839</td>\n",
       "      <td>834042.000000</td>\n",
       "      <td>1194.0000</td>\n",
       "      <td>-10.63</td>\n",
       "    </tr>\n",
       "    <tr>\n",
       "      <th>237</th>\n",
       "      <td>8829</td>\n",
       "      <td>537493.000000</td>\n",
       "      <td>1423.0000</td>\n",
       "      <td>-10.73</td>\n",
       "    </tr>\n",
       "    <tr>\n",
       "      <th>238</th>\n",
       "      <td>9235</td>\n",
       "      <td>404940.000000</td>\n",
       "      <td>1112.0000</td>\n",
       "      <td>-11.23</td>\n",
       "    </tr>\n",
       "    <tr>\n",
       "      <th>239</th>\n",
       "      <td>37882</td>\n",
       "      <td>294903.000000</td>\n",
       "      <td>1783.0000</td>\n",
       "      <td>-7.80</td>\n",
       "    </tr>\n",
       "  </tbody>\n",
       "</table>\n",
       "<p>240 rows × 4 columns</p>\n",
       "</div>"
      ],
      "text/plain": [
       "     Temperature              L          R    A_M\n",
       "0           3068       0.002400     0.1700  16.12\n",
       "1           3042       0.000500     0.1542  16.60\n",
       "2           2600       0.000300     0.1020  18.70\n",
       "3           2800       0.000200     0.1600  16.65\n",
       "4           1939       0.000138     0.1030  20.06\n",
       "..           ...            ...        ...    ...\n",
       "235        38940  374830.000000  1356.0000  -9.93\n",
       "236        30839  834042.000000  1194.0000 -10.63\n",
       "237         8829  537493.000000  1423.0000 -10.73\n",
       "238         9235  404940.000000  1112.0000 -11.23\n",
       "239        37882  294903.000000  1783.0000  -7.80\n",
       "\n",
       "[240 rows x 4 columns]"
      ]
     },
     "execution_count": 15,
     "metadata": {},
     "output_type": "execute_result"
    }
   ],
   "source": [
    "X"
   ]
  },
  {
   "cell_type": "code",
   "execution_count": 16,
   "metadata": {},
   "outputs": [
    {
     "name": "stdout",
     "output_type": "stream",
     "text": [
      "DecisionTreeClassifier()\n"
     ]
    }
   ],
   "source": [
    "from sklearn.model_selection import train_test_split\n",
    "X_train, X_test, y_train, y_test = train_test_split(X, y, test_size=0.4, random_state=42)\n",
    "print(clf.fit(X_train, y_train))"
   ]
  },
  {
   "cell_type": "code",
   "execution_count": 17,
   "metadata": {},
   "outputs": [
    {
     "data": {
      "text/plain": [
       "array([0.1986675 , 0.20550776, 0.20033573, 0.39548901])"
      ]
     },
     "execution_count": 17,
     "metadata": {},
     "output_type": "execute_result"
    }
   ],
   "source": [
    "clf.feature_importances_"
   ]
  },
  {
   "cell_type": "code",
   "execution_count": 18,
   "metadata": {},
   "outputs": [
    {
     "data": {
      "text/plain": [
       "SelectKBest(k=2)"
      ]
     },
     "execution_count": 18,
     "metadata": {},
     "output_type": "execute_result"
    }
   ],
   "source": [
    "from sklearn.feature_selection import SelectKBest, f_classif\n",
    "select = SelectKBest(f_classif, k=2)\n",
    "select.fit(X, y)"
   ]
  },
  {
   "cell_type": "code",
   "execution_count": 19,
   "metadata": {},
   "outputs": [
    {
     "name": "stdout",
     "output_type": "stream",
     "text": [
      "[False False  True  True]\n"
     ]
    }
   ],
   "source": [
    "mask = select.get_support()\n",
    "print(mask)"
   ]
  },
  {
   "cell_type": "code",
   "execution_count": 20,
   "metadata": {},
   "outputs": [
    {
     "data": {
      "text/html": [
       "<div>\n",
       "<style scoped>\n",
       "    .dataframe tbody tr th:only-of-type {\n",
       "        vertical-align: middle;\n",
       "    }\n",
       "\n",
       "    .dataframe tbody tr th {\n",
       "        vertical-align: top;\n",
       "    }\n",
       "\n",
       "    .dataframe thead th {\n",
       "        text-align: right;\n",
       "    }\n",
       "</style>\n",
       "<table border=\"1\" class=\"dataframe\">\n",
       "  <thead>\n",
       "    <tr style=\"text-align: right;\">\n",
       "      <th></th>\n",
       "      <th>R</th>\n",
       "      <th>A_M</th>\n",
       "    </tr>\n",
       "  </thead>\n",
       "  <tbody>\n",
       "    <tr>\n",
       "      <th>0</th>\n",
       "      <td>0.1700</td>\n",
       "      <td>16.12</td>\n",
       "    </tr>\n",
       "    <tr>\n",
       "      <th>1</th>\n",
       "      <td>0.1542</td>\n",
       "      <td>16.60</td>\n",
       "    </tr>\n",
       "    <tr>\n",
       "      <th>2</th>\n",
       "      <td>0.1020</td>\n",
       "      <td>18.70</td>\n",
       "    </tr>\n",
       "    <tr>\n",
       "      <th>3</th>\n",
       "      <td>0.1600</td>\n",
       "      <td>16.65</td>\n",
       "    </tr>\n",
       "    <tr>\n",
       "      <th>4</th>\n",
       "      <td>0.1030</td>\n",
       "      <td>20.06</td>\n",
       "    </tr>\n",
       "  </tbody>\n",
       "</table>\n",
       "</div>"
      ],
      "text/plain": [
       "        R    A_M\n",
       "0  0.1700  16.12\n",
       "1  0.1542  16.60\n",
       "2  0.1020  18.70\n",
       "3  0.1600  16.65\n",
       "4  0.1030  20.06"
      ]
     },
     "execution_count": 20,
     "metadata": {},
     "output_type": "execute_result"
    }
   ],
   "source": [
    "new_X = data.iloc[:, 2:4]\n",
    "new_Y = data.Type\n",
    "df_new = pd.DataFrame(new_X)\n",
    "df_new.head()"
   ]
  },
  {
   "cell_type": "code",
   "execution_count": 21,
   "metadata": {},
   "outputs": [
    {
     "data": {
      "text/plain": [
       "array([[  11.20983765,    7.189725  ],\n",
       "       [1588.36111111,   -9.77666667],\n",
       "       [1185.7       ,   -9.55409091]])"
      ]
     },
     "execution_count": 21,
     "metadata": {},
     "output_type": "execute_result"
    }
   ],
   "source": [
    "kmeans = KMeans(n_clusters=3, random_state=10).fit(df_new)\n",
    "clusters = kmeans.cluster_centers_\n",
    "clusters"
   ]
  },
  {
   "cell_type": "code",
   "execution_count": 22,
   "metadata": {},
   "outputs": [
    {
     "data": {
      "image/png": "[encoded data removed]",
      "text/plain": [
       "<Figure size 432x288 with 1 Axes>"
      ]
     },
     "metadata": {
      "needs_background": "light"
     },
     "output_type": "display_data"
    }
   ],
   "source": [
    "plt.rc('grid', linestyle=\"-\", color='black')\n",
    "plt.scatter(df_new.iloc[:, 0], df_new.iloc[:, 1], c=new_Y, cmap=plt.cm.Set1, edgecolor='k')\n",
    "plt.xlabel('R')\n",
    "plt.ylabel('A_M')\n",
    "\n",
    "plt.plot(clusters[0][0],clusters[0][1],'bo',markersize=12) \n",
    "plt.plot(clusters[1][0],clusters[1][1],'bo',markersize=12) \n",
    "plt.plot(clusters[2][0],clusters[2][1],'bo',markersize=12)\n",
    "\n",
    " \n",
    "\n",
    "\n",
    "plt.xlabel('R')\n",
    "plt.ylabel('A_M')\n",
    "plt.grid(True)\n",
    "plt.show()"
   ]
  },
  {
   "cell_type": "code",
   "execution_count": 23,
   "metadata": {},
   "outputs": [
    {
     "data": {
      "text/plain": [
       "array([[ 1.7000e-01,  1.6120e+01],\n",
       "       [ 1.5420e-01,  1.6600e+01],\n",
       "       [ 1.0200e-01,  1.8700e+01],\n",
       "       [ 1.6000e-01,  1.6650e+01],\n",
       "       [ 1.0300e-01,  2.0060e+01],\n",
       "       [ 1.1000e-01,  1.6980e+01],\n",
       "       [ 1.2700e-01,  1.7220e+01],\n",
       "       [ 9.6000e-02,  1.7400e+01],\n",
       "       [ 1.1000e-01,  1.7450e+01],\n",
       "       [ 1.3000e-01,  1.6050e+01],\n",
       "       [ 5.1000e-01,  1.0690e+01],\n",
       "       [ 3.7610e-01,  1.1790e+01],\n",
       "       [ 1.9600e-01,  1.3210e+01],\n",
       "       [ 3.9300e-01,  1.0480e+01],\n",
       "       [ 1.4000e-01,  1.1782e+01],\n",
       "       [ 2.4000e-01,  1.3070e+01],\n",
       "       [ 1.6000e-01,  1.4790e+01],\n",
       "       [ 4.7000e-01,  1.0800e+01],\n",
       "       [ 1.9670e-01,  1.3530e+01],\n",
       "       [ 3.5100e-01,  1.1180e+01],\n",
       "       [ 8.4000e-03,  1.0580e+01],\n",
       "       [ 1.2340e-02,  1.4020e+01],\n",
       "       [ 1.1000e-02,  1.4230e+01],\n",
       "       [ 1.0000e-02,  1.4500e+01],\n",
       "       [ 1.4000e-02,  1.1890e+01],\n",
       "       [ 9.8400e-03,  1.2230e+01],\n",
       "       [ 9.7000e-03,  1.4200e+01],\n",
       "       [ 1.2800e-02,  1.4470e+01],\n",
       "       [ 1.1000e-02,  1.2590e+01],\n",
       "       [ 1.3000e-02,  1.4080e+01],\n",
       "       [ 1.0600e+01, -4.7000e+00],\n",
       "       [ 6.3000e+00, -4.2000e+00],\n",
       "       [ 7.2000e+00, -1.9700e+00],\n",
       "       [ 2.8900e+00,  1.6000e-01],\n",
       "       [ 9.0000e-01,  5.0500e+00],\n",
       "       [ 1.8000e+00,  2.4200e+00],\n",
       "       [ 1.1200e+00,  2.4100e+00],\n",
       "       [ 9.8000e-01,  2.9300e+00],\n",
       "       [ 1.1060e+00,  4.4600e+00],\n",
       "       [ 9.9000e-01,  5.0300e+00],\n",
       "       [ 1.9000e+01, -6.9300e+00],\n",
       "       [ 2.3000e+01, -6.2000e+00],\n",
       "       [ 8.8000e+01, -6.0200e+00],\n",
       "       [ 1.7000e+01, -7.2200e+00],\n",
       "       [ 2.5000e+01, -6.0000e+00],\n",
       "       [ 2.9000e+01, -6.6000e+00],\n",
       "       [ 4.5000e+01, -6.7800e+00],\n",
       "       [ 8.9000e+01, -5.2400e+00],\n",
       "       [ 8.4000e+01, -6.7400e+00],\n",
       "       [ 2.6000e+01, -6.1000e+00],\n",
       "       [ 1.5200e+03, -9.4000e+00],\n",
       "       [ 1.2600e+03, -7.6300e+00],\n",
       "       [ 1.1830e+03, -9.2000e+00],\n",
       "       [ 1.6480e+03, -8.0500e+00],\n",
       "       [ 1.3240e+03, -7.7900e+00],\n",
       "       [ 1.3490e+03, -1.1750e+01],\n",
       "       [ 1.6730e+03, -1.1920e+01],\n",
       "       [ 1.2840e+03, -1.1280e+01],\n",
       "       [ 9.5500e+02, -1.1240e+01],\n",
       "       [ 1.5460e+03, -1.1360e+01],\n",
       "       [ 5.7000e-02,  1.6230e+01],\n",
       "       [ 1.9000e-01,  1.6940e+01],\n",
       "       [ 9.4000e-02,  1.6090e+01],\n",
       "       [ 9.1800e-02,  1.6960e+01],\n",
       "       [ 1.1600e-01,  1.8890e+01],\n",
       "       [ 1.3200e-01,  1.7130e+01],\n",
       "       [ 9.3000e-02,  1.8340e+01],\n",
       "       [ 9.1100e-02,  1.6450e+01],\n",
       "       [ 1.1800e-01,  1.7390e+01],\n",
       "       [ 1.2000e-01,  1.9430e+01],\n",
       "       [ 2.7300e-01,  1.2300e+01],\n",
       "       [ 3.8000e-01,  1.0120e+01],\n",
       "       [ 1.8000e-01,  1.3200e+01],\n",
       "       [ 3.5000e-01,  1.1940e+01],\n",
       "       [ 2.9100e-01,  1.0890e+01],\n",
       "       [ 3.5000e-01,  1.1760e+01],\n",
       "       [ 2.4000e-01,  1.3460e+01],\n",
       "       [ 3.0700e-01,  1.1870e+01],\n",
       "       [ 9.8000e-02,  1.2810e+01],\n",
       "       [ 1.6100e-01,  1.3980e+01],\n",
       "       [ 1.2000e-02,  1.4090e+01],\n",
       "       [ 9.2000e-03,  1.2020e+01],\n",
       "       [ 9.5000e-03,  1.3780e+01],\n",
       "       [ 1.5000e-02,  1.2450e+01],\n",
       "       [ 8.9000e-03,  1.2170e+01],\n",
       "       [ 1.0900e-02,  1.3980e+01],\n",
       "       [ 9.2000e-03,  1.2130e+01],\n",
       "       [ 8.7000e-03,  1.1190e+01],\n",
       "       [ 8.9200e-03,  1.2970e+01],\n",
       "       [ 1.3100e-02,  1.1340e+01],\n",
       "       [ 9.1000e-01,  5.4900e+00],\n",
       "       [ 8.6500e-01,  6.5060e+00],\n",
       "       [ 7.9500e-01,  6.2280e+00],\n",
       "       [ 1.1300e+00,  4.7800e+00],\n",
       "       [ 2.6300e+00,  1.4500e+00],\n",
       "       [ 6.9800e+00, -2.3000e+00],\n",
       "       [ 8.7600e-01,  4.6800e+00],\n",
       "       [ 1.3400e+00,  2.4400e+00],\n",
       "       [ 7.0100e+00,  2.0000e-02],\n",
       "       [ 1.0200e+01, -4.4000e+00],\n",
       "       [ 1.2000e+01, -6.5000e+00],\n",
       "       [ 1.4000e+01, -6.2300e+00],\n",
       "       [ 3.6000e+01, -5.7600e+00],\n",
       "       [ 8.3000e+01, -6.8900e+00],\n",
       "       [ 1.2000e+01, -5.9100e+00],\n",
       "       [ 4.2000e+01, -6.1200e+00],\n",
       "       [ 6.3000e+01, -5.8300e+00],\n",
       "       [ 3.6000e+01, -6.3400e+00],\n",
       "       [ 5.7000e+01, -6.2400e+00],\n",
       "       [ 6.7000e+01, -5.7900e+00],\n",
       "       [ 1.2890e+03, -1.0700e+01],\n",
       "       [ 1.1240e+03, -1.0810e+01],\n",
       "       [ 1.6350e+03, -1.1330e+01],\n",
       "       [ 1.4860e+03, -1.0920e+01],\n",
       "       [ 1.5220e+03, -1.0860e+01],\n",
       "       [ 1.3240e+03, -1.1030e+01],\n",
       "       [ 1.5340e+03, -1.1390e+01],\n",
       "       [ 8.7600e+02, -1.0250e+01],\n",
       "       [ 1.4670e+03, -1.0070e+01],\n",
       "       [ 1.3240e+03, -1.0700e+01],\n",
       "       [ 9.1200e-02,  1.7160e+01],\n",
       "       [ 9.7600e-02,  1.9940e+01],\n",
       "       [ 1.1000e-01,  2.0020e+01],\n",
       "       [ 9.3200e-02,  1.6920e+01],\n",
       "       [ 1.0900e-01,  1.7120e+01],\n",
       "       [ 1.2100e-01,  1.9630e+01],\n",
       "       [ 9.3200e-02,  1.6880e+01],\n",
       "       [ 8.9900e-02,  1.6710e+01],\n",
       "       [ 7.8200e-02,  1.9560e+01],\n",
       "       [ 8.5600e-02,  1.8090e+01],\n",
       "       [ 4.9200e-01,  1.0870e+01],\n",
       "       [ 3.8000e-01,  1.0340e+01],\n",
       "       [ 3.1000e-01,  1.1170e+01],\n",
       "       [ 3.4000e-01,  1.3120e+01],\n",
       "       [ 6.2000e-01,  1.4230e+01],\n",
       "       [ 7.3000e-01,  1.4750e+01],\n",
       "       [ 2.4000e-01,  1.1430e+01],\n",
       "       [ 5.6000e-01,  1.4260e+01],\n",
       "       [ 3.4000e-01,  1.2230e+01],\n",
       "       [ 2.5600e-01,  1.4330e+01],\n",
       "       [ 9.8100e-03,  1.3670e+01],\n",
       "       [ 1.1200e-02,  1.1520e+01],\n",
       "       [ 9.3400e-03,  1.2780e+01],\n",
       "       [ 9.7200e-03,  1.1920e+01],\n",
       "       [ 8.9800e-03,  1.1380e+01],\n",
       "       [ 8.7900e-03,  1.4870e+01],\n",
       "       [ 9.4500e-03,  1.2830e+01],\n",
       "       [ 8.9200e-03,  1.2890e+01],\n",
       "       [ 8.7800e-03,  1.4810e+01],\n",
       "       [ 9.9600e-03,  1.1230e+01],\n",
       "       [ 6.0200e+00, -4.0100e+00],\n",
       "       [ 2.4870e+00,  1.2000e-01],\n",
       "       [ 5.7450e+00, -2.0400e+00],\n",
       "       [ 5.6800e+00, -3.3200e+00],\n",
       "       [ 5.9200e+00, -3.9800e+00],\n",
       "       [ 6.4000e+00, -4.0900e+00],\n",
       "       [ 5.4900e+00, -3.8000e+00],\n",
       "       [ 6.7800e+00, -3.4000e+00],\n",
       "       [ 6.2100e+00, -1.3800e+00],\n",
       "       [ 6.8600e+00, -4.5600e+00],\n",
       "       [ 5.7000e+01, -5.9200e+00],\n",
       "       [ 3.6000e+01, -6.2450e+00],\n",
       "       [ 8.3000e+01, -5.6200e+00],\n",
       "       [ 9.7000e+01, -6.6300e+00],\n",
       "       [ 3.5000e+01, -7.3400e+00],\n",
       "       [ 2.4000e+01, -7.2200e+00],\n",
       "       [ 7.3000e+01, -5.6900e+00],\n",
       "       [ 3.9000e+01, -5.8300e+00],\n",
       "       [ 3.0000e+01, -6.0900e+00],\n",
       "       [ 2.4000e+01, -5.9900e+00],\n",
       "       [ 1.4800e+03, -7.5800e+00],\n",
       "       [ 1.4200e+03, -8.1800e+00],\n",
       "       [ 1.3150e+03, -9.2000e+00],\n",
       "       [ 1.6790e+03, -9.1000e+00],\n",
       "       [ 1.1900e+03, -7.8900e+00],\n",
       "       [ 1.5530e+03, -7.7100e+00],\n",
       "       [ 1.0450e+03, -8.3000e+00],\n",
       "       [ 1.7790e+03, -9.9000e+00],\n",
       "       [ 7.0890e+02, -7.8400e+00],\n",
       "       [ 1.1345e+03, -8.2400e+00],\n",
       "       [ 9.1500e-02,  1.6210e+01],\n",
       "       [ 1.1600e-01,  1.8390e+01],\n",
       "       [ 1.2600e-01,  1.7560e+01],\n",
       "       [ 9.8700e-02,  1.7340e+01],\n",
       "       [ 7.7300e-02,  1.7080e+01],\n",
       "       [ 9.7300e-02,  1.6930e+01],\n",
       "       [ 1.1900e-01,  1.7450e+01],\n",
       "       [ 9.9800e-02,  1.6670e+01],\n",
       "       [ 1.1200e-01,  1.9450e+01],\n",
       "       [ 1.2900e-01,  1.6350e+01],\n",
       "       [ 1.4800e-01,  1.1470e+01],\n",
       "       [ 4.6000e-01,  1.0730e+01],\n",
       "       [ 2.8000e-01,  1.3450e+01],\n",
       "       [ 3.7800e-01,  1.2854e+01],\n",
       "       [ 3.1900e-01,  1.2430e+01],\n",
       "       [ 6.7000e-01,  1.3667e+01],\n",
       "       [ 2.5800e-01,  1.4120e+01],\n",
       "       [ 3.3600e-01,  1.4940e+01],\n",
       "       [ 4.7100e-01,  1.2780e+01],\n",
       "       [ 6.7500e-01,  1.4776e+01],\n",
       "       [ 1.2100e-02,  1.2870e+01],\n",
       "       [ 1.1400e-02,  1.1920e+01],\n",
       "       [ 1.1300e-02,  1.2230e+01],\n",
       "       [ 1.1600e-02,  1.2900e+01],\n",
       "       [ 1.2400e-02,  1.1220e+01],\n",
       "       [ 1.4200e-02,  1.1340e+01],\n",
       "       [ 1.2700e-02,  1.0550e+01],\n",
       "       [ 1.0400e-02,  1.0180e+01],\n",
       "       [ 1.0600e-02,  1.1660e+01],\n",
       "       [ 9.9800e-03,  1.1620e+01],\n",
       "       [ 6.3600e+00, -3.6700e+00],\n",
       "       [ 5.8560e+00,  1.3000e-02],\n",
       "       [ 5.9920e+00, -1.2000e-01],\n",
       "       [ 6.6400e+00, -2.5500e+00],\n",
       "       [ 6.3900e+00, -4.5700e+00],\n",
       "       [ 6.2370e+00, -4.3600e+00],\n",
       "       [ 1.9100e+00,  1.2360e+00],\n",
       "       [ 6.0300e+00, -3.0800e+00],\n",
       "       [ 5.6530e+00, -2.6400e+00],\n",
       "       [ 1.9300e+00, -9.8000e-01],\n",
       "       [ 3.5000e+01, -6.2700e+00],\n",
       "       [ 7.6000e+01, -7.0200e+00],\n",
       "       [ 9.8000e+01, -6.9800e+00],\n",
       "       [ 8.1000e+01, -5.9750e+00],\n",
       "       [ 6.2000e+01, -6.3500e+00],\n",
       "       [ 4.6000e+01, -7.4500e+00],\n",
       "       [ 8.0000e+01, -7.2620e+00],\n",
       "       [ 2.5000e+01, -6.2240e+00],\n",
       "       [ 8.6000e+01, -5.9050e+00],\n",
       "       [ 9.2000e+01, -7.3460e+00],\n",
       "       [ 1.4940e+03, -8.8400e+00],\n",
       "       [ 1.3560e+03, -9.2900e+00],\n",
       "       [ 1.9485e+03, -1.0840e+01],\n",
       "       [ 1.2520e+03, -7.5900e+00],\n",
       "       [ 1.1300e+03, -7.6700e+00],\n",
       "       [ 1.3560e+03, -9.9300e+00],\n",
       "       [ 1.1940e+03, -1.0630e+01],\n",
       "       [ 1.4230e+03, -1.0730e+01],\n",
       "       [ 1.1120e+03, -1.1230e+01],\n",
       "       [ 1.7830e+03, -7.8000e+00]])"
      ]
     },
     "execution_count": 23,
     "metadata": {},
     "output_type": "execute_result"
    }
   ],
   "source": [
    "X_arr = df_new.to_numpy() \n",
    "X_arr"
   ]
  },
  {
   "cell_type": "code",
   "execution_count": 24,
   "metadata": {},
   "outputs": [
    {
     "data": {
      "text/plain": [
       "array([0, 0, 0, 0, 0, 0, 0, 0, 0, 0, 1, 1, 1, 1, 1, 1, 1, 1, 1, 1, 2, 2,\n",
       "       2, 2, 2, 2, 2, 2, 2, 2, 3, 3, 3, 3, 3, 3, 3, 3, 3, 3, 4, 4, 4, 4,\n",
       "       4, 4, 4, 4, 4, 4, 5, 5, 5, 5, 5, 5, 5, 5, 5, 5, 0, 0, 0, 0, 0, 0,\n",
       "       0, 0, 0, 0, 1, 1, 1, 1, 1, 1, 1, 1, 1, 1, 2, 2, 2, 2, 2, 2, 2, 2,\n",
       "       2, 2, 3, 3, 3, 3, 3, 3, 3, 3, 3, 3, 4, 4, 4, 4, 4, 4, 4, 4, 4, 4,\n",
       "       5, 5, 5, 5, 5, 5, 5, 5, 5, 5, 0, 0, 0, 0, 0, 0, 0, 0, 0, 0, 1, 1,\n",
       "       1, 1, 1, 1, 1, 1, 1, 1, 2, 2, 2, 2, 2, 2, 2, 2, 2, 2, 3, 3, 3, 3,\n",
       "       3, 3, 3, 3, 3, 3, 4, 4, 4, 4, 4, 4, 4, 4, 4, 4, 5, 5, 5, 5, 5, 5,\n",
       "       5, 5, 5, 5, 0, 0, 0, 0, 0, 0, 0, 0, 0, 0, 1, 1, 1, 1, 1, 1, 1, 1,\n",
       "       1, 1, 2, 2, 2, 2, 2, 2, 2, 2, 2, 2, 3, 3, 3, 3, 3, 3, 3, 3, 3, 3,\n",
       "       4, 4, 4, 4, 4, 4, 4, 4, 4, 4, 5, 5, 5, 5, 5, 5, 5, 5, 5, 5])"
      ]
     },
     "execution_count": 24,
     "metadata": {},
     "output_type": "execute_result"
    }
   ],
   "source": [
    "Y_arr = new_Y.to_numpy()\n",
    "Y_arr"
   ]
  },
  {
   "cell_type": "code",
   "execution_count": 25,
   "metadata": {},
   "outputs": [
    {
     "name": "stdout",
     "output_type": "stream",
     "text": [
      "(0, 0) 40\n",
      "(0, 1) 40\n",
      "(0, 2) 40\n",
      "(0, 3) 40\n",
      "(0, 4) 40\n",
      "(1, 5) 18\n",
      "(2, 5) 22\n"
     ]
    }
   ],
   "source": [
    "pairs = {}\n",
    "predicted = []\n",
    "for i in range(len(X_arr)):\n",
    "    predicted_class = kmeans.predict([X_arr[i]])[0]\n",
    "    original_class = Y_arr[i]\n",
    "   #print([X[i]], predicted_class, original_class)\n",
    "    predicted.append((X_arr[i], predicted_class))\n",
    "    pair = (predicted_class, original_class)\n",
    "    pairs[pair] = pairs.get(pair, 0)\n",
    "    pairs[pair] += 1\n",
    "    \n",
    "\n",
    "for pair in pairs:\n",
    "    print(pair, pairs[pair])"
   ]
  },
  {
   "cell_type": "code",
   "execution_count": 26,
   "metadata": {},
   "outputs": [
    {
     "data": {
      "text/plain": [
       "array([[  11.20983765,    7.189725  ],\n",
       "       [1588.36111111,   -9.77666667],\n",
       "       [1185.7       ,   -9.55409091]])"
      ]
     },
     "execution_count": 26,
     "metadata": {},
     "output_type": "execute_result"
    }
   ],
   "source": [
    "clusters"
   ]
  },
  {
   "cell_type": "code",
   "execution_count": 27,
   "metadata": {},
   "outputs": [
    {
     "data": {
      "text/plain": [
       "[<matplotlib.lines.Line2D at 0x14b999a60>]"
      ]
     },
     "execution_count": 27,
     "metadata": {},
     "output_type": "execute_result"
    },
    {
     "data": {
      "image/png": "[encoded data removed]",
      "text/plain": [
       "<Figure size 4320x1080 with 1 Axes>"
      ]
     },
     "metadata": {
      "needs_background": "light"
     },
     "output_type": "display_data"
    }
   ],
   "source": [
    "fig = plt.figure(figsize=(60, 15))\n",
    "fig.subplots_adjust(left=0.02, right=0.98, bottom=0.05, top=0.9)\n",
    "colors=['#F781BF','#FFFF33','#984EA3','#377EB8','#E41A1C','#120042'] \n",
    "ax = fig.add_subplot(1, 3, 1)\n",
    "ax.set_title('KMeans')\n",
    "\n",
    "for i in range(len(X_arr)):\n",
    "    c = colors[Y_arr[i]] \n",
    "    # plot original data\n",
    "    ax.plot(X_arr[i][0], X_arr[i][1], 'w',\n",
    "            markerfacecolor=c, marker='o', markersize=40)  # original data\n",
    "    # plot estimate data\n",
    "\n",
    "for elem in predicted:\n",
    "    x_elem, y_elem = elem[0]\n",
    "\n",
    "    if elem[1] == 0:\n",
    "        c = colors[0]\n",
    "    elif elem[1] == 1:\n",
    "        c = colors[4]\n",
    "    elif elem[1] == 2:\n",
    "        c = colors[1]\n",
    "    elif elem[1] == 3:\n",
    "        c = colors[3]\n",
    "    elif elem[1] == 4:\n",
    "        c = colors[2]\n",
    "    elif elem[1] == 5:\n",
    "        c = colors[5]\n",
    "    else:\n",
    "        c = \"gray\"\n",
    "    \n",
    "    ax.plot(x_elem, y_elem, 'w',\n",
    "           markerfacecolor=c, marker='o', markersize=20)   # predicted data\n",
    "    \n",
    "# cluster centers\n",
    "ax.plot(clusters[0][0],clusters[0][1],'bo',markersize=50) \n",
    "ax.plot(clusters[1][0],clusters[1][1],'bo',markersize=50) \n",
    "ax.plot(clusters[2][0],clusters[2][1],'bo',markersize=50) "
   ]
  },
  {
   "cell_type": "code",
   "execution_count": null,
   "metadata": {},
   "outputs": [],
   "source": []
  }
 ],
 "metadata": {
  "interpreter": {
   "hash": "5edc29c2ed010d6458d71a83433b383a96a8cbd3efe8531bc90c4b8a5b8bcec9"
  },
  "kernelspec": {
   "display_name": "Python 3.9.5 64-bit ('base': conda)",
   "language": "python",
   "name": "python395jvsc74a57bd095ec9ec1504d83f612128e0fb229072f90bbb4cb09d9d5d93b5dd26e0ca2cfd1"
  },
  "language_info": {
   "codemirror_mode": {
    "name": "ipython",
    "version": 3
   },
   "file_extension": ".py",
   "mimetype": "text/x-python",
   "name": "python",
   "nbconvert_exporter": "python",
   "pygments_lexer": "ipython3",
   "version": "3.9.6"
  },
  "metadata": {
   "interpreter": {
    "hash": "63fd5069d213b44bf678585dea6b12cceca9941eaf7f819626cde1f2670de90d"
   }
  }
 },
 "nbformat": 4,
 "nbformat_minor": 2
}
